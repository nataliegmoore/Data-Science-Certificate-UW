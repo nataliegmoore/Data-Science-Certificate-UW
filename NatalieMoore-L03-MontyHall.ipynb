{
 "cells": [
  {
   "cell_type": "markdown",
   "metadata": {},
   "source": [
    "# Lesson 3 Assignment - Monty Hall Simulation\n",
    "## Author - Natalie Moore"
   ]
  },
  {
   "cell_type": "markdown",
   "metadata": {},
   "source": [
    "### Strategy Analysis: to *Stay* or *Switch* Doors?\n",
    "\n",
    "#### Figure 1 Analysis: \n",
    "\n",
    "Figure 1 shows the frequencies of winning a car for the two strategies of Staying or Switching doors after Monty Hall has showed you the other door. In my two arrays for switching/staying, 1 = car and 0 = goat. Therefore, the more 1's the strategy has the better your chances of winning the car. \n",
    "\n",
    "One can clearly see that the switch strategy [left plot] has about twice as many wins, and the stay strategy [right plot] has about twice as many loses. It is, therefore, better to switch doors after Monty shows you the other door since you will have amost double the chances of winning the car.\n",
    "\n",
    "\n",
    "#### Figure 2 Analysis: \n",
    "\n",
    "Figure 2 shows the mean of winning a car for the two strategies of Staying or Switching doors after Monty Hall has showed you the other door. In my two arrays for switching/staying, 1 = car and 0 = goat. Therefore, the more 1's the strategy has the better your chances of winning the car. \n",
    "\n",
    "The mean of each of the Stay/Switch arrays is simply the count of each win (all the 1's) divided by how many wins there were. It is clear that the switch strategy has the higher win count, with a mean of 63/100. The stay strategy has a lower win count, with a mean of 37/100.\n",
    "\n",
    "\n",
    "#### Recommended Strategy:\n",
    "\n",
    "It is clear from both figures that the switch strategy is better than the stay strategy. It has a higher win count of about twice as many wins per 100 game samples. This is because the premice of the game is that there are twice as many goats as cars."
   ]
  },
  {
   "cell_type": "code",
   "execution_count": 1,
   "metadata": {},
   "outputs": [],
   "source": [
    "# Import libraries\n",
    "from __future__ import division \n",
    "\n",
    "import numpy as np\n",
    "from numpy import matlib\n",
    "import matplotlib\n",
    "import matplotlib.pyplot as plt \n",
    "import pandas\n",
    "import random\n",
    "import scipy\n",
    "import scipy.stats\n",
    "from matplotlib import pyplot\n",
    "import seaborn\n",
    "\n",
    "# Configure default plot style.\n",
    "seaborn.set_palette('muted')\n",
    "seaborn.set_style('ticks')\n",
    "%matplotlib inline"
   ]
  },
  {
   "cell_type": "code",
   "execution_count": 2,
   "metadata": {},
   "outputs": [
    {
     "data": {
      "text/plain": [
       "[('Door 1', 0), ('Door 2', 0), ('Door 3', 1)]"
      ]
     },
     "execution_count": 2,
     "metadata": {},
     "output_type": "execute_result"
    }
   ],
   "source": [
    "#simulate the door prizes for one game\n",
    "#1=car\n",
    "#0=goat\n",
    "def DoorPrize_sim(num_samples):\n",
    "    DoorPrizeOptions = [1, 0, 0]    \n",
    "    \n",
    "    x = list(zip(\n",
    "      ['Door 1', 'Door 2', 'Door 3'], \n",
    "      np.random.choice(DoorPrizeOptions, 3, replace=False)))\n",
    "    \n",
    "    return x\n",
    "  \n",
    "DoorPrize_sim(100)"
   ]
  },
  {
   "cell_type": "code",
   "execution_count": 3,
   "metadata": {},
   "outputs": [],
   "source": [
    "#simulate the door prizes for as many games as you want\n",
    "#1=car\n",
    "#0=goat\n",
    "\n",
    "num_samples = 100\n",
    "\n",
    "DoorPrizes = np.zeros((num_samples, 3), dtype=int)\n",
    "\n",
    "for i in range(num_samples):\n",
    "    Doors, Prizes = zip(*DoorPrize_sim(i))\n",
    "    DoorPrizes[i] = Prizes\n",
    "    DoorPrizes_df = pandas.DataFrame(DoorPrizes, columns=Doors)\n",
    "\n",
    "#uncomment below if you would like to see the DoorPrizes dataframe\n",
    "#DoorPrizes_df "
   ]
  },
  {
   "cell_type": "code",
   "execution_count": 4,
   "metadata": {},
   "outputs": [],
   "source": [
    "#randomly choosing a door, as the game contestant\n",
    "#each row in the Choices array corresponds to the prize behind each door choice\n",
    "\n",
    "Choices = np.zeros((num_samples, 1), dtype=int)\n",
    "\n",
    "for i in range(num_samples):\n",
    "    Choices[i] = DoorPrizes_df.loc[i,:].sample(1)\n",
    "\n",
    "#uncomment below if you would like to see the Choices array    \n",
    "#Choices"
   ]
  },
  {
   "cell_type": "code",
   "execution_count": 5,
   "metadata": {},
   "outputs": [],
   "source": [
    "#creating the switch and stay arrays, in which each element is either \n",
    "#1=(winning a car) or \n",
    "#0=(losing, getting a goat)\n",
    "\n",
    "#if pick car: the door opened is goat\n",
    "    #switch means to pick goat, losing\n",
    "    #stay means pick car, winning\n",
    "#if pick goat: the door opened is also goat\n",
    "    #switch means to pick car, winning\n",
    "    #stay means to pick goat, losing\n",
    "\n",
    "switch = []\n",
    "stay = []\n",
    "\n",
    "for i in range(len(Choices)):\n",
    "    if Choices[i] == 1:\n",
    "        switch.append(0)\n",
    "        stay.append(1)\n",
    "    else:\n",
    "        switch.append(1)\n",
    "        stay.append(0)\n",
    "\n",
    "#uncomment below if you would like to see the switch/stay arrays\n",
    "#print (\"switch: \",switch)\n",
    "#print (\"stay: \",stay)"
   ]
  },
  {
   "cell_type": "code",
   "execution_count": 6,
   "metadata": {},
   "outputs": [],
   "source": [
    "#making the switch/stay arrays into pandas dataframes\n",
    "switch = pandas.DataFrame(switch, columns=['Switch Winnings'])\n",
    "stay = pandas.DataFrame(stay, columns=['Stay Winnings'])"
   ]
  },
  {
   "cell_type": "code",
   "execution_count": 16,
   "metadata": {},
   "outputs": [
    {
     "data": {
      "text/plain": [
       "Text(0.5,0.98,'Figure 1: Frequency of Winning the Car per Strategy')"
      ]
     },
     "execution_count": 16,
     "metadata": {},
     "output_type": "execute_result"
    },
    {
     "data": {
      "image/png": "[encoded data removed]",
      "text/plain": [
       "<Figure size 1080x504 with 2 Axes>"
      ]
     },
     "metadata": {
      "needs_background": "light"
     },
     "output_type": "display_data"
    }
   ],
   "source": [
    "#Histogram of stay/switch winning frequency\n",
    "fig, ax = plt.subplots(nrows=1, ncols=2, figsize=(15,7))\n",
    "ax1 = switch[['Switch Winnings']].plot(kind='hist',bins=[0,.5,1],rwidth=0.5, ax=ax[0], color = 'DarkCyan')\n",
    "ax2 = stay[['Stay Winnings']].plot(kind='hist',bins=[0,.5,1],rwidth=0.5, ax=ax[1], color = 'DarkMagenta')\n",
    "\n",
    "fig.suptitle('Figure 1: Frequency of Winning the Car per Strategy', fontsize=20)"
   ]
  },
  {
   "cell_type": "markdown",
   "metadata": {},
   "source": [
    "#### Figure 1 Analysis: \n",
    "\n",
    "Figure 1 [above] shows the frequencies of winning a car for the two strategies of Staying or Switching doors after Monty Hall has showed you the other door. In my two arrays for switching/staying, 1 = car and 0 = goat. Therefore, the more 1's the strategy has the better your chances of winning the car. \n",
    "\n",
    "One can clearly see that the switch strategy [left plot] has about twice as many wins, and the stay strategy [right plot] has about twice as many loses. It is, therefore, better to switch doors after Monty shows you the other door since you will have amost double the chances of winning the car."
   ]
  },
  {
   "cell_type": "code",
   "execution_count": 9,
   "metadata": {},
   "outputs": [
    {
     "name": "stdout",
     "output_type": "stream",
     "text": [
      "Variance of the Stay strategy:  Stay Winnings    0.2331\n",
      "dtype: float64\n",
      "\n",
      "Variance of the Switch strategy:  Switch Winnings    0.2331\n",
      "dtype: float64\n"
     ]
    }
   ],
   "source": [
    "print (\"Variance of the Stay strategy: \",np.var(stay))\n",
    "print (\"\")\n",
    "print (\"Variance of the Switch strategy: \",np.var(switch))"
   ]
  },
  {
   "cell_type": "markdown",
   "metadata": {},
   "source": [
    "From the variance of each strategy above, it's clear that the variance is the same per strategy since there is only two values: 0, and 1."
   ]
  },
  {
   "cell_type": "code",
   "execution_count": 70,
   "metadata": {},
   "outputs": [
    {
     "name": "stdout",
     "output_type": "stream",
     "text": [
      "Mean of the Stay strategy:  Stay Winnings    0.37\n",
      "dtype: float64\n",
      "\n",
      "Mean of the Switch strategy:  Switch Winnings    0.63\n",
      "dtype: float64\n"
     ]
    },
    {
     "data": {
      "text/plain": [
       "Text(0,0.5,'Mean Winnings')"
      ]
     },
     "execution_count": 70,
     "metadata": {},
     "output_type": "execute_result"
    },
    {
     "data": {
      "image/png": "[encoded data removed]",
      "text/plain": [
       "<Figure size 432x288 with 1 Axes>"
      ]
     },
     "metadata": {
      "needs_background": "light"
     },
     "output_type": "display_data"
    }
   ],
   "source": [
    "print (\"Mean of the Stay strategy: \",np.mean(stay))\n",
    "print (\"\")\n",
    "print (\"Mean of the Switch strategy: \",np.mean(switch))\n",
    "\n",
    "Winning_means = [np.mean(stay),np.mean(switch)]\n",
    "\n",
    "columns=['Stay Winnings', 'Switch Winnings']\n",
    "plt.scatter(columns, Winning_means, s=300)\n",
    "plt.title(\"Figure 2: Mean Winnings by Strategy for 100 Games\", fontsize=18)\n",
    "plt.ylabel(\"Mean Winnings\", fontsize=16)"
   ]
  },
  {
   "cell_type": "markdown",
   "metadata": {},
   "source": [
    "#### Figure 2 Analysis: \n",
    "\n",
    "Figure 2 [above] shows the mean of winning a car for the two strategies of Staying or Switching doors after Monty Hall has showed you the other door. In my two arrays for switching/staying, 1 = car and 0 = goat. Therefore, the more 1's the strategy has the better your chances of winning the car. \n",
    "\n",
    "The mean of each of the Stay/Switch arrays is simply the count of each win (all the 1's) divided by how many wins there were. It is clear that the switch strategy has the higher win count, with a mean of 63/100. The stay strategy has a lower win count, with a mean of 37/100."
   ]
  }
 ],
 "metadata": {
  "kernelspec": {
   "display_name": "Python 3",
   "language": "python",
   "name": "python3"
  },
  "language_info": {
   "codemirror_mode": {
    "name": "ipython",
    "version": 3
   },
   "file_extension": ".py",
   "mimetype": "text/x-python",
   "name": "python",
   "nbconvert_exporter": "python",
   "pygments_lexer": "ipython3",
   "version": "3.7.0"
  }
 },
 "nbformat": 4,
 "nbformat_minor": 2
}
