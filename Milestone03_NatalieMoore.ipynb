{
  "nbformat": 4,
  "nbformat_minor": 0,
  "metadata": {
    "kernelspec": {
      "display_name": "Python 3",
      "language": "python",
      "name": "python3"
    },
    "language_info": {
      "codemirror_mode": {
        "name": "ipython",
        "version": 3
      },
      "file_extension": ".py",
      "mimetype": "text/x-python",
      "name": "python",
      "nbconvert_exporter": "python",
      "pygments_lexer": "ipython3",
      "version": "3.7.0"
    },
    "colab": {
      "name": "Milestone03-NatalieMoore.ipynb",
      "provenance": [],
      "collapsed_sections": []
    }
  },
  "cells": [
    {
      "cell_type": "markdown",
      "metadata": {
        "id": "10X-EsnUMfIi",
        "colab_type": "text"
      },
      "source": [
        "# Begin Milestone01"
      ]
    },
    {
      "cell_type": "markdown",
      "metadata": {
        "id": "XcD9UyzHMfIl",
        "colab_type": "text"
      },
      "source": [
        "## Summary\n",
        "\n",
        "My goal with this large dataset was to select a subset of features that would best be able to model the relationship between all the features and their labels (-1 or 1). After attempting to find the best feature selection, it looks at first like Embedded method features have the highest accuracy with this senario. However, it's a bit of a red flag that most of the model methods have the highest accuracy with the Embedded features. The Embedded features may be overfitting the dataset. \n",
        "\n",
        "Instead, I've decided to use the Wrapper method features because they scored the 2nd highest in accuracy mean accross all feature selection methods and model types.\n",
        "\n",
        "What I did:\n",
        "- loaded the two datasets\n",
        "- removed outliers\n",
        "- changed date column to be datetime\n",
        "- merged the dataframes\n",
        "- imputed missing values (NaNs) with the most frequent value\n",
        "- created a correlation matrix and visualized it with a heatmap\n",
        "- handled the class imbalance problem using SMOTE\n",
        "- used Filter, Wrapper, and Embedded methods to select a subset of features for my model\n",
        "- tried out 6 different model types with all three filter selections and plotted accuracy"
      ]
    },
    {
      "cell_type": "code",
      "metadata": {
        "id": "Fmh1LGiPMfIo",
        "colab_type": "code",
        "colab": {}
      },
      "source": [
        "#importing necessary packages\n",
        "import pandas as pd\n",
        "import numpy as np\n",
        "from numpy import matlib\n",
        "import matplotlib\n",
        "import matplotlib.pyplot as plt \n",
        "from sklearn.linear_model import LogisticRegression\n",
        "from sklearn.tree import DecisionTreeClassifier \n",
        "from sklearn.ensemble import RandomForestClassifier\n",
        "from sklearn import metrics, svm\n",
        "from sklearn.model_selection import train_test_split\n",
        "from collections import Counter\n",
        "from sklearn.datasets import make_classification\n",
        "from imblearn.over_sampling import SMOTE \n",
        "import datetime as dt\n",
        "import scipy.stats as ss\n",
        "import scipy\n",
        "import seaborn as sns\n",
        "import statsmodels.stats.power as smsp\n",
        "from sklearn.metrics import accuracy_score\n",
        "from sklearn.metrics import confusion_matrix\n",
        "import graphviz\n",
        "from sklearn.metrics import roc_auc_score\n",
        "from sklearn.metrics import precision_score\n",
        "from sklearn.metrics import average_precision_score\n",
        "from sklearn.metrics import precision_recall_curve\n",
        "\n",
        "#matplotlib formatting that I like\n",
        "%matplotlib inline"
      ],
      "execution_count": 0,
      "outputs": []
    },
    {
      "cell_type": "code",
      "metadata": {
        "id": "HYCyIqjHMfI7",
        "colab_type": "code",
        "colab": {}
      },
      "source": [
        "#loading and reading the datasets\n",
        "filename_data = \"https://archive.ics.uci.edu/ml/machine-learning-databases/secom/secom.data\"\n",
        "filename_labels = \"https://archive.ics.uci.edu/ml/machine-learning-databases/secom/secom_labels.data\"\n",
        "\n",
        "df1 = pd.read_csv(filename_data, sep = ' ', header = None)\n",
        "df2 = pd.read_csv(filename_labels, sep = ' ', header = None)"
      ],
      "execution_count": 0,
      "outputs": []
    },
    {
      "cell_type": "code",
      "metadata": {
        "id": "w2clDLXXMfJH",
        "colab_type": "code",
        "colab": {}
      },
      "source": [
        "#finding and removing any outliers (points above the upper and below the low percentile)\n",
        "#only for columns 0 - 589 columns 590 and 591 are classifiers and datetime\n",
        "def remove_outlier(df):\n",
        "    low = .05\n",
        "    high = .95\n",
        "    quant_df = df.quantile([low, high])\n",
        "    good_points = pd.DataFrame()\n",
        "    for y in range(0,589):\n",
        "        not_outlier = df[y][(df[y] > quant_df.loc[low, y]) & (df[y] < quant_df.loc[high, y])]\n",
        "        if len(not_outlier) > 1299:\n",
        "            good_points[y] = not_outlier\n",
        "        else:\n",
        "            good_points[y] = df[y]\n",
        "    return good_points\n",
        "\n",
        "df1_NoOutliers = remove_outlier(df1)"
      ],
      "execution_count": 0,
      "outputs": []
    },
    {
      "cell_type": "code",
      "metadata": {
        "id": "i3mzMJEPMfJU",
        "colab_type": "code",
        "colab": {
          "base_uri": "https://localhost:8080/",
          "height": 35
        },
        "outputId": "ae9922be-02ae-4581-c9c1-8f88946af441"
      },
      "source": [
        "#need to change the collection dates (column 590) to datetime format!\n",
        "df2[1] = pd.to_datetime(df2[1], format='%d/%m/%Y %H:%M:%S')\n",
        "print(\"Min Date=%s, Max Date=%s\"%(min(df2[1]).strftime(\"%Y-%m-%d\"), \\\n",
        "                                          max(df2[1]).strftime(\"%Y-%m-%d\")))"
      ],
      "execution_count": 4,
      "outputs": [
        {
          "output_type": "stream",
          "text": [
            "Min Date=2008-07-19, Max Date=2008-10-17\n"
          ],
          "name": "stdout"
        }
      ]
    },
    {
      "cell_type": "code",
      "metadata": {
        "id": "St2NYDhwMfJd",
        "colab_type": "code",
        "colab": {
          "base_uri": "https://localhost:8080/",
          "height": 342
        },
        "outputId": "a2f35dc3-34cc-4f69-d67e-39a8dae5b130"
      },
      "source": [
        "#merging the two datasets\n",
        "df1_NoOutliers[590], df1_NoOutliers[591] = df2[1], df2[0]\n",
        "diaper_df = df1_NoOutliers\n",
        "diaper_df = diaper_df.sort_values(by = 590) #sorted by datetime\n",
        "\n",
        "diaper_df.head()"
      ],
      "execution_count": 5,
      "outputs": [
        {
          "output_type": "execute_result",
          "data": {
            "text/html": [
              "<div>\n",
              "<style scoped>\n",
              "    .dataframe tbody tr th:only-of-type {\n",
              "        vertical-align: middle;\n",
              "    }\n",
              "\n",
              "    .dataframe tbody tr th {\n",
              "        vertical-align: top;\n",
              "    }\n",
              "\n",
              "    .dataframe thead th {\n",
              "        text-align: right;\n",
              "    }\n",
              "</style>\n",
              "<table border=\"1\" class=\"dataframe\">\n",
              "  <thead>\n",
              "    <tr style=\"text-align: right;\">\n",
              "      <th></th>\n",
              "      <th>0</th>\n",
              "      <th>1</th>\n",
              "      <th>2</th>\n",
              "      <th>3</th>\n",
              "      <th>4</th>\n",
              "      <th>5</th>\n",
              "      <th>6</th>\n",
              "      <th>7</th>\n",
              "      <th>8</th>\n",
              "      <th>9</th>\n",
              "      <th>10</th>\n",
              "      <th>11</th>\n",
              "      <th>12</th>\n",
              "      <th>13</th>\n",
              "      <th>14</th>\n",
              "      <th>15</th>\n",
              "      <th>16</th>\n",
              "      <th>17</th>\n",
              "      <th>18</th>\n",
              "      <th>19</th>\n",
              "      <th>20</th>\n",
              "      <th>21</th>\n",
              "      <th>22</th>\n",
              "      <th>23</th>\n",
              "      <th>24</th>\n",
              "      <th>25</th>\n",
              "      <th>26</th>\n",
              "      <th>27</th>\n",
              "      <th>28</th>\n",
              "      <th>29</th>\n",
              "      <th>30</th>\n",
              "      <th>31</th>\n",
              "      <th>32</th>\n",
              "      <th>33</th>\n",
              "      <th>34</th>\n",
              "      <th>35</th>\n",
              "      <th>36</th>\n",
              "      <th>37</th>\n",
              "      <th>38</th>\n",
              "      <th>39</th>\n",
              "      <th>...</th>\n",
              "      <th>551</th>\n",
              "      <th>552</th>\n",
              "      <th>553</th>\n",
              "      <th>554</th>\n",
              "      <th>555</th>\n",
              "      <th>556</th>\n",
              "      <th>557</th>\n",
              "      <th>558</th>\n",
              "      <th>559</th>\n",
              "      <th>560</th>\n",
              "      <th>561</th>\n",
              "      <th>562</th>\n",
              "      <th>563</th>\n",
              "      <th>564</th>\n",
              "      <th>565</th>\n",
              "      <th>566</th>\n",
              "      <th>567</th>\n",
              "      <th>568</th>\n",
              "      <th>569</th>\n",
              "      <th>570</th>\n",
              "      <th>571</th>\n",
              "      <th>572</th>\n",
              "      <th>573</th>\n",
              "      <th>574</th>\n",
              "      <th>575</th>\n",
              "      <th>576</th>\n",
              "      <th>577</th>\n",
              "      <th>578</th>\n",
              "      <th>579</th>\n",
              "      <th>580</th>\n",
              "      <th>581</th>\n",
              "      <th>582</th>\n",
              "      <th>583</th>\n",
              "      <th>584</th>\n",
              "      <th>585</th>\n",
              "      <th>586</th>\n",
              "      <th>587</th>\n",
              "      <th>588</th>\n",
              "      <th>590</th>\n",
              "      <th>591</th>\n",
              "    </tr>\n",
              "  </thead>\n",
              "  <tbody>\n",
              "    <tr>\n",
              "      <th>0</th>\n",
              "      <td>3030.93</td>\n",
              "      <td>2564.00</td>\n",
              "      <td>2187.7333</td>\n",
              "      <td>1411.1265</td>\n",
              "      <td>1.3602</td>\n",
              "      <td>100.0</td>\n",
              "      <td>97.6133</td>\n",
              "      <td>0.1242</td>\n",
              "      <td>1.5005</td>\n",
              "      <td>0.0162</td>\n",
              "      <td>-0.0034</td>\n",
              "      <td>NaN</td>\n",
              "      <td>202.4396</td>\n",
              "      <td>0.0</td>\n",
              "      <td>7.9558</td>\n",
              "      <td>414.8710</td>\n",
              "      <td>10.0433</td>\n",
              "      <td>0.9680</td>\n",
              "      <td>192.3963</td>\n",
              "      <td>12.5190</td>\n",
              "      <td>1.4026</td>\n",
              "      <td>-5419.00</td>\n",
              "      <td>2916.50</td>\n",
              "      <td>-4043.75</td>\n",
              "      <td>751.00</td>\n",
              "      <td>NaN</td>\n",
              "      <td>NaN</td>\n",
              "      <td>NaN</td>\n",
              "      <td>64.2333</td>\n",
              "      <td>2.0222</td>\n",
              "      <td>0.1632</td>\n",
              "      <td>3.5191</td>\n",
              "      <td>NaN</td>\n",
              "      <td>9.5126</td>\n",
              "      <td>50.6170</td>\n",
              "      <td>64.2588</td>\n",
              "      <td>49.3830</td>\n",
              "      <td>66.3141</td>\n",
              "      <td>86.9555</td>\n",
              "      <td>117.5132</td>\n",
              "      <td>...</td>\n",
              "      <td>0.78</td>\n",
              "      <td>0.1827</td>\n",
              "      <td>5.7349</td>\n",
              "      <td>0.3363</td>\n",
              "      <td>39.8842</td>\n",
              "      <td>3.2687</td>\n",
              "      <td>1.0297</td>\n",
              "      <td>1.0344</td>\n",
              "      <td>0.4385</td>\n",
              "      <td>0.1039</td>\n",
              "      <td>42.3877</td>\n",
              "      <td>NaN</td>\n",
              "      <td>NaN</td>\n",
              "      <td>NaN</td>\n",
              "      <td>NaN</td>\n",
              "      <td>NaN</td>\n",
              "      <td>NaN</td>\n",
              "      <td>NaN</td>\n",
              "      <td>NaN</td>\n",
              "      <td>533.8500</td>\n",
              "      <td>2.1113</td>\n",
              "      <td>8.95</td>\n",
              "      <td>0.3157</td>\n",
              "      <td>3.0624</td>\n",
              "      <td>0.1026</td>\n",
              "      <td>1.6765</td>\n",
              "      <td>14.9509</td>\n",
              "      <td>NaN</td>\n",
              "      <td>NaN</td>\n",
              "      <td>NaN</td>\n",
              "      <td>NaN</td>\n",
              "      <td>0.5005</td>\n",
              "      <td>0.0118</td>\n",
              "      <td>0.0035</td>\n",
              "      <td>2.3630</td>\n",
              "      <td>NaN</td>\n",
              "      <td>NaN</td>\n",
              "      <td>NaN</td>\n",
              "      <td>2008-07-19 11:55:00</td>\n",
              "      <td>-1</td>\n",
              "    </tr>\n",
              "    <tr>\n",
              "      <th>1</th>\n",
              "      <td>3095.78</td>\n",
              "      <td>2465.14</td>\n",
              "      <td>2230.4222</td>\n",
              "      <td>1463.6606</td>\n",
              "      <td>0.8294</td>\n",
              "      <td>100.0</td>\n",
              "      <td>102.3433</td>\n",
              "      <td>0.1247</td>\n",
              "      <td>1.4966</td>\n",
              "      <td>-0.0005</td>\n",
              "      <td>-0.0148</td>\n",
              "      <td>0.9627</td>\n",
              "      <td>200.5470</td>\n",
              "      <td>0.0</td>\n",
              "      <td>10.1548</td>\n",
              "      <td>414.7347</td>\n",
              "      <td>9.2599</td>\n",
              "      <td>0.9701</td>\n",
              "      <td>191.2872</td>\n",
              "      <td>12.4608</td>\n",
              "      <td>1.3825</td>\n",
              "      <td>-5441.50</td>\n",
              "      <td>2604.25</td>\n",
              "      <td>-3498.75</td>\n",
              "      <td>-1640.25</td>\n",
              "      <td>1.2973</td>\n",
              "      <td>2.0143</td>\n",
              "      <td>7.3900</td>\n",
              "      <td>68.4222</td>\n",
              "      <td>2.2667</td>\n",
              "      <td>0.2102</td>\n",
              "      <td>3.4171</td>\n",
              "      <td>84.9052</td>\n",
              "      <td>NaN</td>\n",
              "      <td>50.6596</td>\n",
              "      <td>64.2828</td>\n",
              "      <td>49.3404</td>\n",
              "      <td>NaN</td>\n",
              "      <td>NaN</td>\n",
              "      <td>118.1188</td>\n",
              "      <td>...</td>\n",
              "      <td>1.33</td>\n",
              "      <td>0.2829</td>\n",
              "      <td>7.1196</td>\n",
              "      <td>0.4989</td>\n",
              "      <td>53.1836</td>\n",
              "      <td>3.9139</td>\n",
              "      <td>1.7819</td>\n",
              "      <td>0.9634</td>\n",
              "      <td>0.1745</td>\n",
              "      <td>0.0375</td>\n",
              "      <td>18.1087</td>\n",
              "      <td>NaN</td>\n",
              "      <td>NaN</td>\n",
              "      <td>NaN</td>\n",
              "      <td>NaN</td>\n",
              "      <td>NaN</td>\n",
              "      <td>NaN</td>\n",
              "      <td>NaN</td>\n",
              "      <td>NaN</td>\n",
              "      <td>535.0164</td>\n",
              "      <td>2.4335</td>\n",
              "      <td>5.92</td>\n",
              "      <td>0.2653</td>\n",
              "      <td>2.0111</td>\n",
              "      <td>0.0772</td>\n",
              "      <td>1.1065</td>\n",
              "      <td>10.9003</td>\n",
              "      <td>0.0096</td>\n",
              "      <td>0.0201</td>\n",
              "      <td>0.0060</td>\n",
              "      <td>208.2045</td>\n",
              "      <td>0.5019</td>\n",
              "      <td>0.0223</td>\n",
              "      <td>NaN</td>\n",
              "      <td>4.4447</td>\n",
              "      <td>0.0096</td>\n",
              "      <td>0.0201</td>\n",
              "      <td>0.0060</td>\n",
              "      <td>2008-07-19 12:32:00</td>\n",
              "      <td>-1</td>\n",
              "    </tr>\n",
              "    <tr>\n",
              "      <th>2</th>\n",
              "      <td>2932.61</td>\n",
              "      <td>2559.94</td>\n",
              "      <td>2186.4111</td>\n",
              "      <td>1698.0172</td>\n",
              "      <td>1.5102</td>\n",
              "      <td>100.0</td>\n",
              "      <td>95.4878</td>\n",
              "      <td>0.1241</td>\n",
              "      <td>1.4436</td>\n",
              "      <td>0.0041</td>\n",
              "      <td>0.0013</td>\n",
              "      <td>0.9615</td>\n",
              "      <td>202.0179</td>\n",
              "      <td>0.0</td>\n",
              "      <td>9.5157</td>\n",
              "      <td>416.7075</td>\n",
              "      <td>9.3144</td>\n",
              "      <td>0.9674</td>\n",
              "      <td>192.7035</td>\n",
              "      <td>12.5404</td>\n",
              "      <td>1.4123</td>\n",
              "      <td>-5447.75</td>\n",
              "      <td>2701.75</td>\n",
              "      <td>-4047.00</td>\n",
              "      <td>-1916.50</td>\n",
              "      <td>1.3122</td>\n",
              "      <td>NaN</td>\n",
              "      <td>NaN</td>\n",
              "      <td>67.1333</td>\n",
              "      <td>2.3333</td>\n",
              "      <td>0.1734</td>\n",
              "      <td>3.5986</td>\n",
              "      <td>84.7569</td>\n",
              "      <td>8.6590</td>\n",
              "      <td>50.1530</td>\n",
              "      <td>64.1114</td>\n",
              "      <td>49.8470</td>\n",
              "      <td>65.8389</td>\n",
              "      <td>NaN</td>\n",
              "      <td>118.6128</td>\n",
              "      <td>...</td>\n",
              "      <td>0.85</td>\n",
              "      <td>0.0857</td>\n",
              "      <td>7.1619</td>\n",
              "      <td>0.3752</td>\n",
              "      <td>23.0713</td>\n",
              "      <td>3.9306</td>\n",
              "      <td>1.1386</td>\n",
              "      <td>NaN</td>\n",
              "      <td>0.3718</td>\n",
              "      <td>0.1233</td>\n",
              "      <td>24.7524</td>\n",
              "      <td>267.064</td>\n",
              "      <td>0.9032</td>\n",
              "      <td>1.10</td>\n",
              "      <td>0.6219</td>\n",
              "      <td>0.4122</td>\n",
              "      <td>0.2562</td>\n",
              "      <td>0.4119</td>\n",
              "      <td>68.8489</td>\n",
              "      <td>535.0245</td>\n",
              "      <td>2.0293</td>\n",
              "      <td>11.21</td>\n",
              "      <td>0.1882</td>\n",
              "      <td>4.0923</td>\n",
              "      <td>0.0640</td>\n",
              "      <td>2.0952</td>\n",
              "      <td>9.2721</td>\n",
              "      <td>0.0584</td>\n",
              "      <td>0.0484</td>\n",
              "      <td>0.0148</td>\n",
              "      <td>82.8602</td>\n",
              "      <td>0.4958</td>\n",
              "      <td>0.0157</td>\n",
              "      <td>0.0039</td>\n",
              "      <td>3.1745</td>\n",
              "      <td>NaN</td>\n",
              "      <td>NaN</td>\n",
              "      <td>NaN</td>\n",
              "      <td>2008-07-19 13:17:00</td>\n",
              "      <td>1</td>\n",
              "    </tr>\n",
              "    <tr>\n",
              "      <th>3</th>\n",
              "      <td>2988.72</td>\n",
              "      <td>2479.90</td>\n",
              "      <td>2199.0333</td>\n",
              "      <td>NaN</td>\n",
              "      <td>1.3204</td>\n",
              "      <td>100.0</td>\n",
              "      <td>104.2367</td>\n",
              "      <td>0.1217</td>\n",
              "      <td>1.4882</td>\n",
              "      <td>-0.0124</td>\n",
              "      <td>-0.0033</td>\n",
              "      <td>0.9629</td>\n",
              "      <td>201.8482</td>\n",
              "      <td>0.0</td>\n",
              "      <td>9.6052</td>\n",
              "      <td>422.2894</td>\n",
              "      <td>9.6924</td>\n",
              "      <td>0.9687</td>\n",
              "      <td>192.1557</td>\n",
              "      <td>12.4782</td>\n",
              "      <td>1.4011</td>\n",
              "      <td>-5468.25</td>\n",
              "      <td>2648.25</td>\n",
              "      <td>-4515.00</td>\n",
              "      <td>-1657.25</td>\n",
              "      <td>1.3137</td>\n",
              "      <td>2.0038</td>\n",
              "      <td>7.3145</td>\n",
              "      <td>NaN</td>\n",
              "      <td>2.6444</td>\n",
              "      <td>0.2071</td>\n",
              "      <td>3.3813</td>\n",
              "      <td>84.9105</td>\n",
              "      <td>8.6789</td>\n",
              "      <td>50.5100</td>\n",
              "      <td>64.1125</td>\n",
              "      <td>49.4900</td>\n",
              "      <td>NaN</td>\n",
              "      <td>86.6867</td>\n",
              "      <td>NaN</td>\n",
              "      <td>...</td>\n",
              "      <td>39.33</td>\n",
              "      <td>0.6812</td>\n",
              "      <td>56.9303</td>\n",
              "      <td>17.4781</td>\n",
              "      <td>161.4081</td>\n",
              "      <td>35.3198</td>\n",
              "      <td>54.2917</td>\n",
              "      <td>NaN</td>\n",
              "      <td>NaN</td>\n",
              "      <td>NaN</td>\n",
              "      <td>62.7572</td>\n",
              "      <td>268.228</td>\n",
              "      <td>0.6511</td>\n",
              "      <td>7.32</td>\n",
              "      <td>0.1630</td>\n",
              "      <td>3.5611</td>\n",
              "      <td>0.0670</td>\n",
              "      <td>2.7290</td>\n",
              "      <td>25.0363</td>\n",
              "      <td>530.5682</td>\n",
              "      <td>2.0253</td>\n",
              "      <td>9.33</td>\n",
              "      <td>0.1738</td>\n",
              "      <td>2.8971</td>\n",
              "      <td>0.0525</td>\n",
              "      <td>1.7585</td>\n",
              "      <td>8.5831</td>\n",
              "      <td>0.0202</td>\n",
              "      <td>0.0149</td>\n",
              "      <td>0.0044</td>\n",
              "      <td>73.8432</td>\n",
              "      <td>0.4990</td>\n",
              "      <td>0.0103</td>\n",
              "      <td>NaN</td>\n",
              "      <td>2.0544</td>\n",
              "      <td>0.0202</td>\n",
              "      <td>0.0149</td>\n",
              "      <td>0.0044</td>\n",
              "      <td>2008-07-19 14:43:00</td>\n",
              "      <td>-1</td>\n",
              "    </tr>\n",
              "    <tr>\n",
              "      <th>4</th>\n",
              "      <td>3032.24</td>\n",
              "      <td>2502.87</td>\n",
              "      <td>2233.3667</td>\n",
              "      <td>1326.5200</td>\n",
              "      <td>1.5334</td>\n",
              "      <td>100.0</td>\n",
              "      <td>100.3967</td>\n",
              "      <td>0.1235</td>\n",
              "      <td>1.5031</td>\n",
              "      <td>-0.0031</td>\n",
              "      <td>-0.0072</td>\n",
              "      <td>0.9569</td>\n",
              "      <td>201.9424</td>\n",
              "      <td>0.0</td>\n",
              "      <td>10.5661</td>\n",
              "      <td>420.5925</td>\n",
              "      <td>10.3387</td>\n",
              "      <td>0.9735</td>\n",
              "      <td>191.6037</td>\n",
              "      <td>12.4735</td>\n",
              "      <td>1.3888</td>\n",
              "      <td>-5476.25</td>\n",
              "      <td>2635.25</td>\n",
              "      <td>-3987.50</td>\n",
              "      <td>117.00</td>\n",
              "      <td>1.2887</td>\n",
              "      <td>1.9912</td>\n",
              "      <td>7.2748</td>\n",
              "      <td>NaN</td>\n",
              "      <td>NaN</td>\n",
              "      <td>NaN</td>\n",
              "      <td>3.2728</td>\n",
              "      <td>86.3269</td>\n",
              "      <td>8.7677</td>\n",
              "      <td>50.2480</td>\n",
              "      <td>64.1511</td>\n",
              "      <td>49.7520</td>\n",
              "      <td>66.1542</td>\n",
              "      <td>NaN</td>\n",
              "      <td>NaN</td>\n",
              "      <td>...</td>\n",
              "      <td>1.98</td>\n",
              "      <td>0.4287</td>\n",
              "      <td>9.7608</td>\n",
              "      <td>0.8311</td>\n",
              "      <td>70.9706</td>\n",
              "      <td>4.9086</td>\n",
              "      <td>2.5014</td>\n",
              "      <td>0.9778</td>\n",
              "      <td>0.2156</td>\n",
              "      <td>0.0461</td>\n",
              "      <td>22.0500</td>\n",
              "      <td>NaN</td>\n",
              "      <td>NaN</td>\n",
              "      <td>NaN</td>\n",
              "      <td>NaN</td>\n",
              "      <td>NaN</td>\n",
              "      <td>NaN</td>\n",
              "      <td>NaN</td>\n",
              "      <td>NaN</td>\n",
              "      <td>532.0155</td>\n",
              "      <td>2.0275</td>\n",
              "      <td>8.83</td>\n",
              "      <td>0.2224</td>\n",
              "      <td>3.1776</td>\n",
              "      <td>0.0706</td>\n",
              "      <td>1.6597</td>\n",
              "      <td>10.9698</td>\n",
              "      <td>NaN</td>\n",
              "      <td>NaN</td>\n",
              "      <td>NaN</td>\n",
              "      <td>NaN</td>\n",
              "      <td>NaN</td>\n",
              "      <td>NaN</td>\n",
              "      <td>NaN</td>\n",
              "      <td>NaN</td>\n",
              "      <td>0.0202</td>\n",
              "      <td>0.0149</td>\n",
              "      <td>0.0044</td>\n",
              "      <td>2008-07-19 15:22:00</td>\n",
              "      <td>-1</td>\n",
              "    </tr>\n",
              "  </tbody>\n",
              "</table>\n",
              "<p>5 rows × 591 columns</p>\n",
              "</div>"
            ],
            "text/plain": [
              "       0        1          2    ...     588                 590  591\n",
              "0  3030.93  2564.00  2187.7333  ...     NaN 2008-07-19 11:55:00   -1\n",
              "1  3095.78  2465.14  2230.4222  ...  0.0060 2008-07-19 12:32:00   -1\n",
              "2  2932.61  2559.94  2186.4111  ...     NaN 2008-07-19 13:17:00    1\n",
              "3  2988.72  2479.90  2199.0333  ...  0.0044 2008-07-19 14:43:00   -1\n",
              "4  3032.24  2502.87  2233.3667  ...  0.0044 2008-07-19 15:22:00   -1\n",
              "\n",
              "[5 rows x 591 columns]"
            ]
          },
          "metadata": {
            "tags": []
          },
          "execution_count": 5
        }
      ]
    },
    {
      "cell_type": "code",
      "metadata": {
        "id": "AQ7uvwLLMfJk",
        "colab_type": "code",
        "colab": {
          "base_uri": "https://localhost:8080/",
          "height": 35
        },
        "outputId": "4f9fdf83-3cbe-4472-ea8a-88269dda0f41"
      },
      "source": [
        "#imputing missing values with the most frequent value in its column\n",
        "for i in diaper_df.columns:\n",
        "    mean_value=diaper_df[i].mode()[0]\n",
        "    diaper_df[i]=diaper_df[i].fillna(mean_value)\n",
        "\n",
        "#checking to make sure no more NaNs exist in diaper_df\n",
        "print(\"NaN count in diaper_df: \", diaper_df.isnull().sum().sum())"
      ],
      "execution_count": 6,
      "outputs": [
        {
          "output_type": "stream",
          "text": [
            "NaN count in diaper_df:  0\n"
          ],
          "name": "stdout"
        }
      ]
    },
    {
      "cell_type": "code",
      "metadata": {
        "scrolled": true,
        "id": "LO7n89K8MfJt",
        "colab_type": "code",
        "colab": {
          "base_uri": "https://localhost:8080/",
          "height": 91
        },
        "outputId": "63f8bbb6-d10a-4d6f-a85d-61bd72a2ffc0"
      },
      "source": [
        "#attempting to visualize all the data at once\n",
        "\n",
        "#creating a correlation matrix \n",
        "corr = diaper_df.corr()\n",
        "#plotting the correlation matrix as a heatmap\n",
        "\n",
        "##WARNING it may take a couple minutes since I'm trying to plot every column\n",
        "\n",
        "corr.style.background_gradient(cmap='coolwarm').set_precision(2)"
      ],
      "execution_count": 0,
      "outputs": [
        {
          "output_type": "stream",
          "text": [
            "/usr/local/lib/python3.6/dist-packages/pandas/io/formats/style.py:1089: RuntimeWarning: All-NaN slice encountered\n",
            "  smin = np.nanmin(s.to_numpy()) if vmin is None else vmin\n",
            "/usr/local/lib/python3.6/dist-packages/pandas/io/formats/style.py:1090: RuntimeWarning: All-NaN slice encountered\n",
            "  smax = np.nanmax(s.to_numpy()) if vmax is None else vmax\n"
          ],
          "name": "stderr"
        }
      ]
    },
    {
      "cell_type": "markdown",
      "metadata": {
        "id": "DMgCcM_FMfJ2",
        "colab_type": "text"
      },
      "source": [
        "### From the correlation heat map above, I can already see what features may be the most correlated to the label column (last col 591) by it's correlation number. I can also see where the all NaN correlation columns are (columns that are constant) and where other features might be correlated. "
      ]
    },
    {
      "cell_type": "code",
      "metadata": {
        "id": "Kv-wbBG3MfJ3",
        "colab_type": "code",
        "colab": {}
      },
      "source": [
        "#creating my model variables\n",
        "X = diaper_df.drop([590,591], axis = 1)\n",
        "Y = diaper_df[591]"
      ],
      "execution_count": 0,
      "outputs": []
    },
    {
      "cell_type": "code",
      "metadata": {
        "id": "sAwBs_IoMfKA",
        "colab_type": "code",
        "colab": {}
      },
      "source": [
        "#creating training/testing variables based on the X and Y dataframes, \n",
        "#test size is 1/4 the size of our input data\n",
        "x_train, x_test, y_train, y_test = train_test_split(X, Y, \n",
        "                                                    test_size=0.25)"
      ],
      "execution_count": 0,
      "outputs": []
    },
    {
      "cell_type": "code",
      "metadata": {
        "id": "XxayawOwMfKG",
        "colab_type": "code",
        "colab": {
          "base_uri": "https://localhost:8080/",
          "height": 72
        },
        "outputId": "b0d44c70-3feb-407a-f348-5d9fc5c87049"
      },
      "source": [
        "#the class imbalance problem:\n",
        "diaper_df[591].value_counts()"
      ],
      "execution_count": 9,
      "outputs": [
        {
          "output_type": "execute_result",
          "data": {
            "text/plain": [
              "-1    1319\n",
              " 1      84\n",
              "Name: 591, dtype: int64"
            ]
          },
          "metadata": {
            "tags": []
          },
          "execution_count": 9
        }
      ]
    },
    {
      "cell_type": "code",
      "metadata": {
        "id": "g2cZxHPLMfKN",
        "colab_type": "code",
        "colab": {
          "base_uri": "https://localhost:8080/",
          "height": 92
        },
        "outputId": "22b8e0ed-2328-4398-b3ad-ad2da798b45a"
      },
      "source": [
        "#handling the class imbalance problem with SMOTE\n",
        "sm = SMOTE(random_state=42)\n",
        "X_resam, Y_resam = sm.fit_sample(x_train, y_train)\n",
        "print('Resampled diaper_df shape {}'.format(Counter(Y_resam)))"
      ],
      "execution_count": 10,
      "outputs": [
        {
          "output_type": "stream",
          "text": [
            "Resampled diaper_df shape Counter({-1: 986, 1: 986})\n"
          ],
          "name": "stdout"
        },
        {
          "output_type": "stream",
          "text": [
            "/usr/local/lib/python3.6/dist-packages/sklearn/utils/deprecation.py:87: FutureWarning: Function safe_indexing is deprecated; safe_indexing is deprecated in version 0.22 and will be removed in version 0.24.\n",
            "  warnings.warn(msg, category=FutureWarning)\n"
          ],
          "name": "stderr"
        }
      ]
    },
    {
      "cell_type": "markdown",
      "metadata": {
        "id": "SCOHIeVgMfKW",
        "colab_type": "text"
      },
      "source": [
        "### Feature Selection and Model Tryout"
      ]
    },
    {
      "cell_type": "code",
      "metadata": {
        "id": "djnwfe40MfKX",
        "colab_type": "code",
        "colab": {}
      },
      "source": [
        "from sklearn.model_selection import train_test_split\n",
        "from sklearn.model_selection import cross_val_score\n",
        "from sklearn.model_selection import StratifiedKFold\n",
        "from sklearn.metrics import classification_report\n",
        "from sklearn.metrics import confusion_matrix\n",
        "from sklearn.metrics import accuracy_score\n",
        "from sklearn.linear_model import LogisticRegression\n",
        "from sklearn.tree import DecisionTreeClassifier\n",
        "from sklearn.neighbors import KNeighborsClassifier\n",
        "from sklearn.discriminant_analysis import LinearDiscriminantAnalysis\n",
        "from sklearn.naive_bayes import GaussianNB\n",
        "from sklearn.svm import SVC"
      ],
      "execution_count": 0,
      "outputs": []
    },
    {
      "cell_type": "code",
      "metadata": {
        "scrolled": true,
        "id": "WZy42oc1MfKe",
        "colab_type": "code",
        "colab": {
          "base_uri": "https://localhost:8080/",
          "height": 1000
        },
        "outputId": "5e9ac98e-9b71-44f5-da06-547f28ecce86"
      },
      "source": [
        "#using mutual_score_info to determine correlation for each continuous(numerical) variable\n",
        "from sklearn.metrics import mutual_info_score\n",
        "\n",
        "CORR = []\n",
        "\n",
        "def calc_MI(x, y, bins):\n",
        "    c_xy = np.histogram2d(x, y, bins)[0]\n",
        "    mi = mutual_info_score(None, None, contingency=c_xy)\n",
        "    return mi\n",
        "\n",
        "for i in X.columns:\n",
        "    # Calculation Correlation\n",
        "    X_ = X[i]\n",
        "\n",
        "    #correlation\n",
        "    corr = np.corrcoef(X[i], Y)[0,1]\n",
        "\n",
        "    #mutual information\n",
        "    mi = calc_MI(X[i], Y, 20)\n",
        "    \n",
        "    CORR.append([i, corr, mi])\n",
        "\n",
        "CORR = pd.DataFrame(CORR, columns = ['Variable', 'Correlation', 'Mutual Information'])\n",
        "CORR.sort_values(by=['Mutual Information'], ascending=False)\n",
        "\n",
        "#creating my Filter_Features array, which contains each feature I've selected from the filter method above\n",
        "Filter_Features = []\n",
        "Filter_Features.extend(np.array(CORR.sort_values(by=['Mutual Information'], ascending=False)['Variable'][1:10]))"
      ],
      "execution_count": 12,
      "outputs": [
        {
          "output_type": "stream",
          "text": [
            "/usr/local/lib/python3.6/dist-packages/numpy/lib/function_base.py:2534: RuntimeWarning: invalid value encountered in true_divide\n",
            "  c /= stddev[:, None]\n",
            "/usr/local/lib/python3.6/dist-packages/numpy/lib/function_base.py:2535: RuntimeWarning: invalid value encountered in true_divide\n",
            "  c /= stddev[None, :]\n",
            "/usr/local/lib/python3.6/dist-packages/numpy/lib/function_base.py:2534: RuntimeWarning: invalid value encountered in true_divide\n",
            "  c /= stddev[:, None]\n",
            "/usr/local/lib/python3.6/dist-packages/numpy/lib/function_base.py:2535: RuntimeWarning: invalid value encountered in true_divide\n",
            "  c /= stddev[None, :]\n",
            "/usr/local/lib/python3.6/dist-packages/numpy/lib/function_base.py:2534: RuntimeWarning: invalid value encountered in true_divide\n",
            "  c /= stddev[:, None]\n",
            "/usr/local/lib/python3.6/dist-packages/numpy/lib/function_base.py:2535: RuntimeWarning: invalid value encountered in true_divide\n",
            "  c /= stddev[None, :]\n",
            "/usr/local/lib/python3.6/dist-packages/numpy/lib/function_base.py:2534: RuntimeWarning: invalid value encountered in true_divide\n",
            "  c /= stddev[:, None]\n",
            "/usr/local/lib/python3.6/dist-packages/numpy/lib/function_base.py:2535: RuntimeWarning: invalid value encountered in true_divide\n",
            "  c /= stddev[None, :]\n",
            "/usr/local/lib/python3.6/dist-packages/numpy/lib/function_base.py:2534: RuntimeWarning: invalid value encountered in true_divide\n",
            "  c /= stddev[:, None]\n",
            "/usr/local/lib/python3.6/dist-packages/numpy/lib/function_base.py:2535: RuntimeWarning: invalid value encountered in true_divide\n",
            "  c /= stddev[None, :]\n",
            "/usr/local/lib/python3.6/dist-packages/numpy/lib/function_base.py:2534: RuntimeWarning: invalid value encountered in true_divide\n",
            "  c /= stddev[:, None]\n",
            "/usr/local/lib/python3.6/dist-packages/numpy/lib/function_base.py:2535: RuntimeWarning: invalid value encountered in true_divide\n",
            "  c /= stddev[None, :]\n",
            "/usr/local/lib/python3.6/dist-packages/numpy/lib/function_base.py:2534: RuntimeWarning: invalid value encountered in true_divide\n",
            "  c /= stddev[:, None]\n",
            "/usr/local/lib/python3.6/dist-packages/numpy/lib/function_base.py:2535: RuntimeWarning: invalid value encountered in true_divide\n",
            "  c /= stddev[None, :]\n",
            "/usr/local/lib/python3.6/dist-packages/numpy/lib/function_base.py:2534: RuntimeWarning: invalid value encountered in true_divide\n",
            "  c /= stddev[:, None]\n",
            "/usr/local/lib/python3.6/dist-packages/numpy/lib/function_base.py:2535: RuntimeWarning: invalid value encountered in true_divide\n",
            "  c /= stddev[None, :]\n",
            "/usr/local/lib/python3.6/dist-packages/numpy/lib/function_base.py:2534: RuntimeWarning: invalid value encountered in true_divide\n",
            "  c /= stddev[:, None]\n",
            "/usr/local/lib/python3.6/dist-packages/numpy/lib/function_base.py:2535: RuntimeWarning: invalid value encountered in true_divide\n",
            "  c /= stddev[None, :]\n",
            "/usr/local/lib/python3.6/dist-packages/numpy/lib/function_base.py:2534: RuntimeWarning: invalid value encountered in true_divide\n",
            "  c /= stddev[:, None]\n",
            "/usr/local/lib/python3.6/dist-packages/numpy/lib/function_base.py:2535: RuntimeWarning: invalid value encountered in true_divide\n",
            "  c /= stddev[None, :]\n",
            "/usr/local/lib/python3.6/dist-packages/numpy/lib/function_base.py:2534: RuntimeWarning: invalid value encountered in true_divide\n",
            "  c /= stddev[:, None]\n",
            "/usr/local/lib/python3.6/dist-packages/numpy/lib/function_base.py:2535: RuntimeWarning: invalid value encountered in true_divide\n",
            "  c /= stddev[None, :]\n",
            "/usr/local/lib/python3.6/dist-packages/numpy/lib/function_base.py:2534: RuntimeWarning: invalid value encountered in true_divide\n",
            "  c /= stddev[:, None]\n",
            "/usr/local/lib/python3.6/dist-packages/numpy/lib/function_base.py:2535: RuntimeWarning: invalid value encountered in true_divide\n",
            "  c /= stddev[None, :]\n",
            "/usr/local/lib/python3.6/dist-packages/numpy/lib/function_base.py:2534: RuntimeWarning: invalid value encountered in true_divide\n",
            "  c /= stddev[:, None]\n",
            "/usr/local/lib/python3.6/dist-packages/numpy/lib/function_base.py:2535: RuntimeWarning: invalid value encountered in true_divide\n",
            "  c /= stddev[None, :]\n",
            "/usr/local/lib/python3.6/dist-packages/numpy/lib/function_base.py:2534: RuntimeWarning: invalid value encountered in true_divide\n",
            "  c /= stddev[:, None]\n",
            "/usr/local/lib/python3.6/dist-packages/numpy/lib/function_base.py:2535: RuntimeWarning: invalid value encountered in true_divide\n",
            "  c /= stddev[None, :]\n",
            "/usr/local/lib/python3.6/dist-packages/numpy/lib/function_base.py:2534: RuntimeWarning: invalid value encountered in true_divide\n",
            "  c /= stddev[:, None]\n",
            "/usr/local/lib/python3.6/dist-packages/numpy/lib/function_base.py:2535: RuntimeWarning: invalid value encountered in true_divide\n",
            "  c /= stddev[None, :]\n",
            "/usr/local/lib/python3.6/dist-packages/numpy/lib/function_base.py:2534: RuntimeWarning: invalid value encountered in true_divide\n",
            "  c /= stddev[:, None]\n",
            "/usr/local/lib/python3.6/dist-packages/numpy/lib/function_base.py:2535: RuntimeWarning: invalid value encountered in true_divide\n",
            "  c /= stddev[None, :]\n",
            "/usr/local/lib/python3.6/dist-packages/numpy/lib/function_base.py:2534: RuntimeWarning: invalid value encountered in true_divide\n",
            "  c /= stddev[:, None]\n",
            "/usr/local/lib/python3.6/dist-packages/numpy/lib/function_base.py:2535: RuntimeWarning: invalid value encountered in true_divide\n",
            "  c /= stddev[None, :]\n",
            "/usr/local/lib/python3.6/dist-packages/numpy/lib/function_base.py:2534: RuntimeWarning: invalid value encountered in true_divide\n",
            "  c /= stddev[:, None]\n",
            "/usr/local/lib/python3.6/dist-packages/numpy/lib/function_base.py:2535: RuntimeWarning: invalid value encountered in true_divide\n",
            "  c /= stddev[None, :]\n",
            "/usr/local/lib/python3.6/dist-packages/numpy/lib/function_base.py:2534: RuntimeWarning: invalid value encountered in true_divide\n",
            "  c /= stddev[:, None]\n",
            "/usr/local/lib/python3.6/dist-packages/numpy/lib/function_base.py:2535: RuntimeWarning: invalid value encountered in true_divide\n",
            "  c /= stddev[None, :]\n",
            "/usr/local/lib/python3.6/dist-packages/numpy/lib/function_base.py:2534: RuntimeWarning: invalid value encountered in true_divide\n",
            "  c /= stddev[:, None]\n",
            "/usr/local/lib/python3.6/dist-packages/numpy/lib/function_base.py:2535: RuntimeWarning: invalid value encountered in true_divide\n",
            "  c /= stddev[None, :]\n",
            "/usr/local/lib/python3.6/dist-packages/numpy/lib/function_base.py:2534: RuntimeWarning: invalid value encountered in true_divide\n",
            "  c /= stddev[:, None]\n",
            "/usr/local/lib/python3.6/dist-packages/numpy/lib/function_base.py:2535: RuntimeWarning: invalid value encountered in true_divide\n",
            "  c /= stddev[None, :]\n",
            "/usr/local/lib/python3.6/dist-packages/numpy/lib/function_base.py:2534: RuntimeWarning: invalid value encountered in true_divide\n",
            "  c /= stddev[:, None]\n",
            "/usr/local/lib/python3.6/dist-packages/numpy/lib/function_base.py:2535: RuntimeWarning: invalid value encountered in true_divide\n",
            "  c /= stddev[None, :]\n",
            "/usr/local/lib/python3.6/dist-packages/numpy/lib/function_base.py:2534: RuntimeWarning: invalid value encountered in true_divide\n",
            "  c /= stddev[:, None]\n",
            "/usr/local/lib/python3.6/dist-packages/numpy/lib/function_base.py:2535: RuntimeWarning: invalid value encountered in true_divide\n",
            "  c /= stddev[None, :]\n",
            "/usr/local/lib/python3.6/dist-packages/numpy/lib/function_base.py:2534: RuntimeWarning: invalid value encountered in true_divide\n",
            "  c /= stddev[:, None]\n",
            "/usr/local/lib/python3.6/dist-packages/numpy/lib/function_base.py:2535: RuntimeWarning: invalid value encountered in true_divide\n",
            "  c /= stddev[None, :]\n",
            "/usr/local/lib/python3.6/dist-packages/numpy/lib/function_base.py:2534: RuntimeWarning: invalid value encountered in true_divide\n",
            "  c /= stddev[:, None]\n",
            "/usr/local/lib/python3.6/dist-packages/numpy/lib/function_base.py:2535: RuntimeWarning: invalid value encountered in true_divide\n",
            "  c /= stddev[None, :]\n",
            "/usr/local/lib/python3.6/dist-packages/numpy/lib/function_base.py:2534: RuntimeWarning: invalid value encountered in true_divide\n",
            "  c /= stddev[:, None]\n",
            "/usr/local/lib/python3.6/dist-packages/numpy/lib/function_base.py:2535: RuntimeWarning: invalid value encountered in true_divide\n",
            "  c /= stddev[None, :]\n",
            "/usr/local/lib/python3.6/dist-packages/numpy/lib/function_base.py:2534: RuntimeWarning: invalid value encountered in true_divide\n",
            "  c /= stddev[:, None]\n",
            "/usr/local/lib/python3.6/dist-packages/numpy/lib/function_base.py:2535: RuntimeWarning: invalid value encountered in true_divide\n",
            "  c /= stddev[None, :]\n",
            "/usr/local/lib/python3.6/dist-packages/numpy/lib/function_base.py:2534: RuntimeWarning: invalid value encountered in true_divide\n",
            "  c /= stddev[:, None]\n",
            "/usr/local/lib/python3.6/dist-packages/numpy/lib/function_base.py:2535: RuntimeWarning: invalid value encountered in true_divide\n",
            "  c /= stddev[None, :]\n",
            "/usr/local/lib/python3.6/dist-packages/numpy/lib/function_base.py:2534: RuntimeWarning: invalid value encountered in true_divide\n",
            "  c /= stddev[:, None]\n",
            "/usr/local/lib/python3.6/dist-packages/numpy/lib/function_base.py:2535: RuntimeWarning: invalid value encountered in true_divide\n",
            "  c /= stddev[None, :]\n",
            "/usr/local/lib/python3.6/dist-packages/numpy/lib/function_base.py:2534: RuntimeWarning: invalid value encountered in true_divide\n",
            "  c /= stddev[:, None]\n",
            "/usr/local/lib/python3.6/dist-packages/numpy/lib/function_base.py:2535: RuntimeWarning: invalid value encountered in true_divide\n",
            "  c /= stddev[None, :]\n",
            "/usr/local/lib/python3.6/dist-packages/numpy/lib/function_base.py:2534: RuntimeWarning: invalid value encountered in true_divide\n",
            "  c /= stddev[:, None]\n",
            "/usr/local/lib/python3.6/dist-packages/numpy/lib/function_base.py:2535: RuntimeWarning: invalid value encountered in true_divide\n",
            "  c /= stddev[None, :]\n",
            "/usr/local/lib/python3.6/dist-packages/numpy/lib/function_base.py:2534: RuntimeWarning: invalid value encountered in true_divide\n",
            "  c /= stddev[:, None]\n",
            "/usr/local/lib/python3.6/dist-packages/numpy/lib/function_base.py:2535: RuntimeWarning: invalid value encountered in true_divide\n",
            "  c /= stddev[None, :]\n",
            "/usr/local/lib/python3.6/dist-packages/numpy/lib/function_base.py:2534: RuntimeWarning: invalid value encountered in true_divide\n",
            "  c /= stddev[:, None]\n",
            "/usr/local/lib/python3.6/dist-packages/numpy/lib/function_base.py:2535: RuntimeWarning: invalid value encountered in true_divide\n",
            "  c /= stddev[None, :]\n",
            "/usr/local/lib/python3.6/dist-packages/numpy/lib/function_base.py:2534: RuntimeWarning: invalid value encountered in true_divide\n",
            "  c /= stddev[:, None]\n",
            "/usr/local/lib/python3.6/dist-packages/numpy/lib/function_base.py:2535: RuntimeWarning: invalid value encountered in true_divide\n",
            "  c /= stddev[None, :]\n",
            "/usr/local/lib/python3.6/dist-packages/numpy/lib/function_base.py:2534: RuntimeWarning: invalid value encountered in true_divide\n",
            "  c /= stddev[:, None]\n",
            "/usr/local/lib/python3.6/dist-packages/numpy/lib/function_base.py:2535: RuntimeWarning: invalid value encountered in true_divide\n",
            "  c /= stddev[None, :]\n",
            "/usr/local/lib/python3.6/dist-packages/numpy/lib/function_base.py:2534: RuntimeWarning: invalid value encountered in true_divide\n",
            "  c /= stddev[:, None]\n",
            "/usr/local/lib/python3.6/dist-packages/numpy/lib/function_base.py:2535: RuntimeWarning: invalid value encountered in true_divide\n",
            "  c /= stddev[None, :]\n",
            "/usr/local/lib/python3.6/dist-packages/numpy/lib/function_base.py:2534: RuntimeWarning: invalid value encountered in true_divide\n",
            "  c /= stddev[:, None]\n",
            "/usr/local/lib/python3.6/dist-packages/numpy/lib/function_base.py:2535: RuntimeWarning: invalid value encountered in true_divide\n",
            "  c /= stddev[None, :]\n",
            "/usr/local/lib/python3.6/dist-packages/numpy/lib/function_base.py:2534: RuntimeWarning: invalid value encountered in true_divide\n",
            "  c /= stddev[:, None]\n",
            "/usr/local/lib/python3.6/dist-packages/numpy/lib/function_base.py:2535: RuntimeWarning: invalid value encountered in true_divide\n",
            "  c /= stddev[None, :]\n",
            "/usr/local/lib/python3.6/dist-packages/numpy/lib/function_base.py:2534: RuntimeWarning: invalid value encountered in true_divide\n",
            "  c /= stddev[:, None]\n",
            "/usr/local/lib/python3.6/dist-packages/numpy/lib/function_base.py:2535: RuntimeWarning: invalid value encountered in true_divide\n",
            "  c /= stddev[None, :]\n",
            "/usr/local/lib/python3.6/dist-packages/numpy/lib/function_base.py:2534: RuntimeWarning: invalid value encountered in true_divide\n",
            "  c /= stddev[:, None]\n",
            "/usr/local/lib/python3.6/dist-packages/numpy/lib/function_base.py:2535: RuntimeWarning: invalid value encountered in true_divide\n",
            "  c /= stddev[None, :]\n",
            "/usr/local/lib/python3.6/dist-packages/numpy/lib/function_base.py:2534: RuntimeWarning: invalid value encountered in true_divide\n",
            "  c /= stddev[:, None]\n",
            "/usr/local/lib/python3.6/dist-packages/numpy/lib/function_base.py:2535: RuntimeWarning: invalid value encountered in true_divide\n",
            "  c /= stddev[None, :]\n",
            "/usr/local/lib/python3.6/dist-packages/numpy/lib/function_base.py:2534: RuntimeWarning: invalid value encountered in true_divide\n",
            "  c /= stddev[:, None]\n",
            "/usr/local/lib/python3.6/dist-packages/numpy/lib/function_base.py:2535: RuntimeWarning: invalid value encountered in true_divide\n",
            "  c /= stddev[None, :]\n",
            "/usr/local/lib/python3.6/dist-packages/numpy/lib/function_base.py:2534: RuntimeWarning: invalid value encountered in true_divide\n",
            "  c /= stddev[:, None]\n",
            "/usr/local/lib/python3.6/dist-packages/numpy/lib/function_base.py:2535: RuntimeWarning: invalid value encountered in true_divide\n",
            "  c /= stddev[None, :]\n",
            "/usr/local/lib/python3.6/dist-packages/numpy/lib/function_base.py:2534: RuntimeWarning: invalid value encountered in true_divide\n",
            "  c /= stddev[:, None]\n",
            "/usr/local/lib/python3.6/dist-packages/numpy/lib/function_base.py:2535: RuntimeWarning: invalid value encountered in true_divide\n",
            "  c /= stddev[None, :]\n",
            "/usr/local/lib/python3.6/dist-packages/numpy/lib/function_base.py:2534: RuntimeWarning: invalid value encountered in true_divide\n",
            "  c /= stddev[:, None]\n",
            "/usr/local/lib/python3.6/dist-packages/numpy/lib/function_base.py:2535: RuntimeWarning: invalid value encountered in true_divide\n",
            "  c /= stddev[None, :]\n",
            "/usr/local/lib/python3.6/dist-packages/numpy/lib/function_base.py:2534: RuntimeWarning: invalid value encountered in true_divide\n",
            "  c /= stddev[:, None]\n",
            "/usr/local/lib/python3.6/dist-packages/numpy/lib/function_base.py:2535: RuntimeWarning: invalid value encountered in true_divide\n",
            "  c /= stddev[None, :]\n",
            "/usr/local/lib/python3.6/dist-packages/numpy/lib/function_base.py:2534: RuntimeWarning: invalid value encountered in true_divide\n",
            "  c /= stddev[:, None]\n",
            "/usr/local/lib/python3.6/dist-packages/numpy/lib/function_base.py:2535: RuntimeWarning: invalid value encountered in true_divide\n",
            "  c /= stddev[None, :]\n",
            "/usr/local/lib/python3.6/dist-packages/numpy/lib/function_base.py:2534: RuntimeWarning: invalid value encountered in true_divide\n",
            "  c /= stddev[:, None]\n",
            "/usr/local/lib/python3.6/dist-packages/numpy/lib/function_base.py:2535: RuntimeWarning: invalid value encountered in true_divide\n",
            "  c /= stddev[None, :]\n",
            "/usr/local/lib/python3.6/dist-packages/numpy/lib/function_base.py:2534: RuntimeWarning: invalid value encountered in true_divide\n",
            "  c /= stddev[:, None]\n",
            "/usr/local/lib/python3.6/dist-packages/numpy/lib/function_base.py:2535: RuntimeWarning: invalid value encountered in true_divide\n",
            "  c /= stddev[None, :]\n",
            "/usr/local/lib/python3.6/dist-packages/numpy/lib/function_base.py:2534: RuntimeWarning: invalid value encountered in true_divide\n",
            "  c /= stddev[:, None]\n",
            "/usr/local/lib/python3.6/dist-packages/numpy/lib/function_base.py:2535: RuntimeWarning: invalid value encountered in true_divide\n",
            "  c /= stddev[None, :]\n",
            "/usr/local/lib/python3.6/dist-packages/numpy/lib/function_base.py:2534: RuntimeWarning: invalid value encountered in true_divide\n",
            "  c /= stddev[:, None]\n",
            "/usr/local/lib/python3.6/dist-packages/numpy/lib/function_base.py:2535: RuntimeWarning: invalid value encountered in true_divide\n",
            "  c /= stddev[None, :]\n",
            "/usr/local/lib/python3.6/dist-packages/numpy/lib/function_base.py:2534: RuntimeWarning: invalid value encountered in true_divide\n",
            "  c /= stddev[:, None]\n",
            "/usr/local/lib/python3.6/dist-packages/numpy/lib/function_base.py:2535: RuntimeWarning: invalid value encountered in true_divide\n",
            "  c /= stddev[None, :]\n",
            "/usr/local/lib/python3.6/dist-packages/numpy/lib/function_base.py:2534: RuntimeWarning: invalid value encountered in true_divide\n",
            "  c /= stddev[:, None]\n",
            "/usr/local/lib/python3.6/dist-packages/numpy/lib/function_base.py:2535: RuntimeWarning: invalid value encountered in true_divide\n",
            "  c /= stddev[None, :]\n",
            "/usr/local/lib/python3.6/dist-packages/numpy/lib/function_base.py:2534: RuntimeWarning: invalid value encountered in true_divide\n",
            "  c /= stddev[:, None]\n",
            "/usr/local/lib/python3.6/dist-packages/numpy/lib/function_base.py:2535: RuntimeWarning: invalid value encountered in true_divide\n",
            "  c /= stddev[None, :]\n",
            "/usr/local/lib/python3.6/dist-packages/numpy/lib/function_base.py:2534: RuntimeWarning: invalid value encountered in true_divide\n",
            "  c /= stddev[:, None]\n",
            "/usr/local/lib/python3.6/dist-packages/numpy/lib/function_base.py:2535: RuntimeWarning: invalid value encountered in true_divide\n",
            "  c /= stddev[None, :]\n",
            "/usr/local/lib/python3.6/dist-packages/numpy/lib/function_base.py:2534: RuntimeWarning: invalid value encountered in true_divide\n",
            "  c /= stddev[:, None]\n",
            "/usr/local/lib/python3.6/dist-packages/numpy/lib/function_base.py:2535: RuntimeWarning: invalid value encountered in true_divide\n",
            "  c /= stddev[None, :]\n",
            "/usr/local/lib/python3.6/dist-packages/numpy/lib/function_base.py:2534: RuntimeWarning: invalid value encountered in true_divide\n",
            "  c /= stddev[:, None]\n",
            "/usr/local/lib/python3.6/dist-packages/numpy/lib/function_base.py:2535: RuntimeWarning: invalid value encountered in true_divide\n",
            "  c /= stddev[None, :]\n",
            "/usr/local/lib/python3.6/dist-packages/numpy/lib/function_base.py:2534: RuntimeWarning: invalid value encountered in true_divide\n",
            "  c /= stddev[:, None]\n",
            "/usr/local/lib/python3.6/dist-packages/numpy/lib/function_base.py:2535: RuntimeWarning: invalid value encountered in true_divide\n",
            "  c /= stddev[None, :]\n",
            "/usr/local/lib/python3.6/dist-packages/numpy/lib/function_base.py:2534: RuntimeWarning: invalid value encountered in true_divide\n",
            "  c /= stddev[:, None]\n",
            "/usr/local/lib/python3.6/dist-packages/numpy/lib/function_base.py:2535: RuntimeWarning: invalid value encountered in true_divide\n",
            "  c /= stddev[None, :]\n",
            "/usr/local/lib/python3.6/dist-packages/numpy/lib/function_base.py:2534: RuntimeWarning: invalid value encountered in true_divide\n",
            "  c /= stddev[:, None]\n",
            "/usr/local/lib/python3.6/dist-packages/numpy/lib/function_base.py:2535: RuntimeWarning: invalid value encountered in true_divide\n",
            "  c /= stddev[None, :]\n",
            "/usr/local/lib/python3.6/dist-packages/numpy/lib/function_base.py:2534: RuntimeWarning: invalid value encountered in true_divide\n",
            "  c /= stddev[:, None]\n",
            "/usr/local/lib/python3.6/dist-packages/numpy/lib/function_base.py:2535: RuntimeWarning: invalid value encountered in true_divide\n",
            "  c /= stddev[None, :]\n",
            "/usr/local/lib/python3.6/dist-packages/numpy/lib/function_base.py:2534: RuntimeWarning: invalid value encountered in true_divide\n",
            "  c /= stddev[:, None]\n",
            "/usr/local/lib/python3.6/dist-packages/numpy/lib/function_base.py:2535: RuntimeWarning: invalid value encountered in true_divide\n",
            "  c /= stddev[None, :]\n",
            "/usr/local/lib/python3.6/dist-packages/numpy/lib/function_base.py:2534: RuntimeWarning: invalid value encountered in true_divide\n",
            "  c /= stddev[:, None]\n",
            "/usr/local/lib/python3.6/dist-packages/numpy/lib/function_base.py:2535: RuntimeWarning: invalid value encountered in true_divide\n",
            "  c /= stddev[None, :]\n",
            "/usr/local/lib/python3.6/dist-packages/numpy/lib/function_base.py:2534: RuntimeWarning: invalid value encountered in true_divide\n",
            "  c /= stddev[:, None]\n",
            "/usr/local/lib/python3.6/dist-packages/numpy/lib/function_base.py:2535: RuntimeWarning: invalid value encountered in true_divide\n",
            "  c /= stddev[None, :]\n",
            "/usr/local/lib/python3.6/dist-packages/numpy/lib/function_base.py:2534: RuntimeWarning: invalid value encountered in true_divide\n",
            "  c /= stddev[:, None]\n",
            "/usr/local/lib/python3.6/dist-packages/numpy/lib/function_base.py:2535: RuntimeWarning: invalid value encountered in true_divide\n",
            "  c /= stddev[None, :]\n",
            "/usr/local/lib/python3.6/dist-packages/numpy/lib/function_base.py:2534: RuntimeWarning: invalid value encountered in true_divide\n",
            "  c /= stddev[:, None]\n",
            "/usr/local/lib/python3.6/dist-packages/numpy/lib/function_base.py:2535: RuntimeWarning: invalid value encountered in true_divide\n",
            "  c /= stddev[None, :]\n",
            "/usr/local/lib/python3.6/dist-packages/numpy/lib/function_base.py:2534: RuntimeWarning: invalid value encountered in true_divide\n",
            "  c /= stddev[:, None]\n",
            "/usr/local/lib/python3.6/dist-packages/numpy/lib/function_base.py:2535: RuntimeWarning: invalid value encountered in true_divide\n",
            "  c /= stddev[None, :]\n",
            "/usr/local/lib/python3.6/dist-packages/numpy/lib/function_base.py:2534: RuntimeWarning: invalid value encountered in true_divide\n",
            "  c /= stddev[:, None]\n",
            "/usr/local/lib/python3.6/dist-packages/numpy/lib/function_base.py:2535: RuntimeWarning: invalid value encountered in true_divide\n",
            "  c /= stddev[None, :]\n",
            "/usr/local/lib/python3.6/dist-packages/numpy/lib/function_base.py:2534: RuntimeWarning: invalid value encountered in true_divide\n",
            "  c /= stddev[:, None]\n",
            "/usr/local/lib/python3.6/dist-packages/numpy/lib/function_base.py:2535: RuntimeWarning: invalid value encountered in true_divide\n",
            "  c /= stddev[None, :]\n",
            "/usr/local/lib/python3.6/dist-packages/numpy/lib/function_base.py:2534: RuntimeWarning: invalid value encountered in true_divide\n",
            "  c /= stddev[:, None]\n",
            "/usr/local/lib/python3.6/dist-packages/numpy/lib/function_base.py:2535: RuntimeWarning: invalid value encountered in true_divide\n",
            "  c /= stddev[None, :]\n",
            "/usr/local/lib/python3.6/dist-packages/numpy/lib/function_base.py:2534: RuntimeWarning: invalid value encountered in true_divide\n",
            "  c /= stddev[:, None]\n",
            "/usr/local/lib/python3.6/dist-packages/numpy/lib/function_base.py:2535: RuntimeWarning: invalid value encountered in true_divide\n",
            "  c /= stddev[None, :]\n",
            "/usr/local/lib/python3.6/dist-packages/numpy/lib/function_base.py:2534: RuntimeWarning: invalid value encountered in true_divide\n",
            "  c /= stddev[:, None]\n",
            "/usr/local/lib/python3.6/dist-packages/numpy/lib/function_base.py:2535: RuntimeWarning: invalid value encountered in true_divide\n",
            "  c /= stddev[None, :]\n",
            "/usr/local/lib/python3.6/dist-packages/numpy/lib/function_base.py:2534: RuntimeWarning: invalid value encountered in true_divide\n",
            "  c /= stddev[:, None]\n",
            "/usr/local/lib/python3.6/dist-packages/numpy/lib/function_base.py:2535: RuntimeWarning: invalid value encountered in true_divide\n",
            "  c /= stddev[None, :]\n",
            "/usr/local/lib/python3.6/dist-packages/numpy/lib/function_base.py:2534: RuntimeWarning: invalid value encountered in true_divide\n",
            "  c /= stddev[:, None]\n",
            "/usr/local/lib/python3.6/dist-packages/numpy/lib/function_base.py:2535: RuntimeWarning: invalid value encountered in true_divide\n",
            "  c /= stddev[None, :]\n",
            "/usr/local/lib/python3.6/dist-packages/numpy/lib/function_base.py:2534: RuntimeWarning: invalid value encountered in true_divide\n",
            "  c /= stddev[:, None]\n",
            "/usr/local/lib/python3.6/dist-packages/numpy/lib/function_base.py:2535: RuntimeWarning: invalid value encountered in true_divide\n",
            "  c /= stddev[None, :]\n",
            "/usr/local/lib/python3.6/dist-packages/numpy/lib/function_base.py:2534: RuntimeWarning: invalid value encountered in true_divide\n",
            "  c /= stddev[:, None]\n",
            "/usr/local/lib/python3.6/dist-packages/numpy/lib/function_base.py:2535: RuntimeWarning: invalid value encountered in true_divide\n",
            "  c /= stddev[None, :]\n",
            "/usr/local/lib/python3.6/dist-packages/numpy/lib/function_base.py:2534: RuntimeWarning: invalid value encountered in true_divide\n",
            "  c /= stddev[:, None]\n",
            "/usr/local/lib/python3.6/dist-packages/numpy/lib/function_base.py:2535: RuntimeWarning: invalid value encountered in true_divide\n",
            "  c /= stddev[None, :]\n",
            "/usr/local/lib/python3.6/dist-packages/numpy/lib/function_base.py:2534: RuntimeWarning: invalid value encountered in true_divide\n",
            "  c /= stddev[:, None]\n",
            "/usr/local/lib/python3.6/dist-packages/numpy/lib/function_base.py:2535: RuntimeWarning: invalid value encountered in true_divide\n",
            "  c /= stddev[None, :]\n",
            "/usr/local/lib/python3.6/dist-packages/numpy/lib/function_base.py:2534: RuntimeWarning: invalid value encountered in true_divide\n",
            "  c /= stddev[:, None]\n",
            "/usr/local/lib/python3.6/dist-packages/numpy/lib/function_base.py:2535: RuntimeWarning: invalid value encountered in true_divide\n",
            "  c /= stddev[None, :]\n",
            "/usr/local/lib/python3.6/dist-packages/numpy/lib/function_base.py:2534: RuntimeWarning: invalid value encountered in true_divide\n",
            "  c /= stddev[:, None]\n",
            "/usr/local/lib/python3.6/dist-packages/numpy/lib/function_base.py:2535: RuntimeWarning: invalid value encountered in true_divide\n",
            "  c /= stddev[None, :]\n",
            "/usr/local/lib/python3.6/dist-packages/numpy/lib/function_base.py:2534: RuntimeWarning: invalid value encountered in true_divide\n",
            "  c /= stddev[:, None]\n",
            "/usr/local/lib/python3.6/dist-packages/numpy/lib/function_base.py:2535: RuntimeWarning: invalid value encountered in true_divide\n",
            "  c /= stddev[None, :]\n",
            "/usr/local/lib/python3.6/dist-packages/numpy/lib/function_base.py:2534: RuntimeWarning: invalid value encountered in true_divide\n",
            "  c /= stddev[:, None]\n",
            "/usr/local/lib/python3.6/dist-packages/numpy/lib/function_base.py:2535: RuntimeWarning: invalid value encountered in true_divide\n",
            "  c /= stddev[None, :]\n",
            "/usr/local/lib/python3.6/dist-packages/numpy/lib/function_base.py:2534: RuntimeWarning: invalid value encountered in true_divide\n",
            "  c /= stddev[:, None]\n",
            "/usr/local/lib/python3.6/dist-packages/numpy/lib/function_base.py:2535: RuntimeWarning: invalid value encountered in true_divide\n",
            "  c /= stddev[None, :]\n",
            "/usr/local/lib/python3.6/dist-packages/numpy/lib/function_base.py:2534: RuntimeWarning: invalid value encountered in true_divide\n",
            "  c /= stddev[:, None]\n",
            "/usr/local/lib/python3.6/dist-packages/numpy/lib/function_base.py:2535: RuntimeWarning: invalid value encountered in true_divide\n",
            "  c /= stddev[None, :]\n",
            "/usr/local/lib/python3.6/dist-packages/numpy/lib/function_base.py:2534: RuntimeWarning: invalid value encountered in true_divide\n",
            "  c /= stddev[:, None]\n",
            "/usr/local/lib/python3.6/dist-packages/numpy/lib/function_base.py:2535: RuntimeWarning: invalid value encountered in true_divide\n",
            "  c /= stddev[None, :]\n",
            "/usr/local/lib/python3.6/dist-packages/numpy/lib/function_base.py:2534: RuntimeWarning: invalid value encountered in true_divide\n",
            "  c /= stddev[:, None]\n",
            "/usr/local/lib/python3.6/dist-packages/numpy/lib/function_base.py:2535: RuntimeWarning: invalid value encountered in true_divide\n",
            "  c /= stddev[None, :]\n",
            "/usr/local/lib/python3.6/dist-packages/numpy/lib/function_base.py:2534: RuntimeWarning: invalid value encountered in true_divide\n",
            "  c /= stddev[:, None]\n",
            "/usr/local/lib/python3.6/dist-packages/numpy/lib/function_base.py:2535: RuntimeWarning: invalid value encountered in true_divide\n",
            "  c /= stddev[None, :]\n",
            "/usr/local/lib/python3.6/dist-packages/numpy/lib/function_base.py:2534: RuntimeWarning: invalid value encountered in true_divide\n",
            "  c /= stddev[:, None]\n",
            "/usr/local/lib/python3.6/dist-packages/numpy/lib/function_base.py:2535: RuntimeWarning: invalid value encountered in true_divide\n",
            "  c /= stddev[None, :]\n",
            "/usr/local/lib/python3.6/dist-packages/numpy/lib/function_base.py:2534: RuntimeWarning: invalid value encountered in true_divide\n",
            "  c /= stddev[:, None]\n",
            "/usr/local/lib/python3.6/dist-packages/numpy/lib/function_base.py:2535: RuntimeWarning: invalid value encountered in true_divide\n",
            "  c /= stddev[None, :]\n",
            "/usr/local/lib/python3.6/dist-packages/numpy/lib/function_base.py:2534: RuntimeWarning: invalid value encountered in true_divide\n",
            "  c /= stddev[:, None]\n",
            "/usr/local/lib/python3.6/dist-packages/numpy/lib/function_base.py:2535: RuntimeWarning: invalid value encountered in true_divide\n",
            "  c /= stddev[None, :]\n",
            "/usr/local/lib/python3.6/dist-packages/numpy/lib/function_base.py:2534: RuntimeWarning: invalid value encountered in true_divide\n",
            "  c /= stddev[:, None]\n",
            "/usr/local/lib/python3.6/dist-packages/numpy/lib/function_base.py:2535: RuntimeWarning: invalid value encountered in true_divide\n",
            "  c /= stddev[None, :]\n",
            "/usr/local/lib/python3.6/dist-packages/numpy/lib/function_base.py:2534: RuntimeWarning: invalid value encountered in true_divide\n",
            "  c /= stddev[:, None]\n",
            "/usr/local/lib/python3.6/dist-packages/numpy/lib/function_base.py:2535: RuntimeWarning: invalid value encountered in true_divide\n",
            "  c /= stddev[None, :]\n",
            "/usr/local/lib/python3.6/dist-packages/numpy/lib/function_base.py:2534: RuntimeWarning: invalid value encountered in true_divide\n",
            "  c /= stddev[:, None]\n",
            "/usr/local/lib/python3.6/dist-packages/numpy/lib/function_base.py:2535: RuntimeWarning: invalid value encountered in true_divide\n",
            "  c /= stddev[None, :]\n",
            "/usr/local/lib/python3.6/dist-packages/numpy/lib/function_base.py:2534: RuntimeWarning: invalid value encountered in true_divide\n",
            "  c /= stddev[:, None]\n",
            "/usr/local/lib/python3.6/dist-packages/numpy/lib/function_base.py:2535: RuntimeWarning: invalid value encountered in true_divide\n",
            "  c /= stddev[None, :]\n",
            "/usr/local/lib/python3.6/dist-packages/numpy/lib/function_base.py:2534: RuntimeWarning: invalid value encountered in true_divide\n",
            "  c /= stddev[:, None]\n",
            "/usr/local/lib/python3.6/dist-packages/numpy/lib/function_base.py:2535: RuntimeWarning: invalid value encountered in true_divide\n",
            "  c /= stddev[None, :]\n",
            "/usr/local/lib/python3.6/dist-packages/numpy/lib/function_base.py:2534: RuntimeWarning: invalid value encountered in true_divide\n",
            "  c /= stddev[:, None]\n",
            "/usr/local/lib/python3.6/dist-packages/numpy/lib/function_base.py:2535: RuntimeWarning: invalid value encountered in true_divide\n",
            "  c /= stddev[None, :]\n",
            "/usr/local/lib/python3.6/dist-packages/numpy/lib/function_base.py:2534: RuntimeWarning: invalid value encountered in true_divide\n",
            "  c /= stddev[:, None]\n",
            "/usr/local/lib/python3.6/dist-packages/numpy/lib/function_base.py:2535: RuntimeWarning: invalid value encountered in true_divide\n",
            "  c /= stddev[None, :]\n",
            "/usr/local/lib/python3.6/dist-packages/numpy/lib/function_base.py:2534: RuntimeWarning: invalid value encountered in true_divide\n",
            "  c /= stddev[:, None]\n",
            "/usr/local/lib/python3.6/dist-packages/numpy/lib/function_base.py:2535: RuntimeWarning: invalid value encountered in true_divide\n",
            "  c /= stddev[None, :]\n",
            "/usr/local/lib/python3.6/dist-packages/numpy/lib/function_base.py:2534: RuntimeWarning: invalid value encountered in true_divide\n",
            "  c /= stddev[:, None]\n",
            "/usr/local/lib/python3.6/dist-packages/numpy/lib/function_base.py:2535: RuntimeWarning: invalid value encountered in true_divide\n",
            "  c /= stddev[None, :]\n",
            "/usr/local/lib/python3.6/dist-packages/numpy/lib/function_base.py:2534: RuntimeWarning: invalid value encountered in true_divide\n",
            "  c /= stddev[:, None]\n",
            "/usr/local/lib/python3.6/dist-packages/numpy/lib/function_base.py:2535: RuntimeWarning: invalid value encountered in true_divide\n",
            "  c /= stddev[None, :]\n",
            "/usr/local/lib/python3.6/dist-packages/numpy/lib/function_base.py:2534: RuntimeWarning: invalid value encountered in true_divide\n",
            "  c /= stddev[:, None]\n",
            "/usr/local/lib/python3.6/dist-packages/numpy/lib/function_base.py:2535: RuntimeWarning: invalid value encountered in true_divide\n",
            "  c /= stddev[None, :]\n",
            "/usr/local/lib/python3.6/dist-packages/numpy/lib/function_base.py:2534: RuntimeWarning: invalid value encountered in true_divide\n",
            "  c /= stddev[:, None]\n",
            "/usr/local/lib/python3.6/dist-packages/numpy/lib/function_base.py:2535: RuntimeWarning: invalid value encountered in true_divide\n",
            "  c /= stddev[None, :]\n",
            "/usr/local/lib/python3.6/dist-packages/numpy/lib/function_base.py:2534: RuntimeWarning: invalid value encountered in true_divide\n",
            "  c /= stddev[:, None]\n",
            "/usr/local/lib/python3.6/dist-packages/numpy/lib/function_base.py:2535: RuntimeWarning: invalid value encountered in true_divide\n",
            "  c /= stddev[None, :]\n",
            "/usr/local/lib/python3.6/dist-packages/numpy/lib/function_base.py:2534: RuntimeWarning: invalid value encountered in true_divide\n",
            "  c /= stddev[:, None]\n",
            "/usr/local/lib/python3.6/dist-packages/numpy/lib/function_base.py:2535: RuntimeWarning: invalid value encountered in true_divide\n",
            "  c /= stddev[None, :]\n",
            "/usr/local/lib/python3.6/dist-packages/numpy/lib/function_base.py:2534: RuntimeWarning: invalid value encountered in true_divide\n",
            "  c /= stddev[:, None]\n",
            "/usr/local/lib/python3.6/dist-packages/numpy/lib/function_base.py:2535: RuntimeWarning: invalid value encountered in true_divide\n",
            "  c /= stddev[None, :]\n",
            "/usr/local/lib/python3.6/dist-packages/numpy/lib/function_base.py:2534: RuntimeWarning: invalid value encountered in true_divide\n",
            "  c /= stddev[:, None]\n",
            "/usr/local/lib/python3.6/dist-packages/numpy/lib/function_base.py:2535: RuntimeWarning: invalid value encountered in true_divide\n",
            "  c /= stddev[None, :]\n",
            "/usr/local/lib/python3.6/dist-packages/numpy/lib/function_base.py:2534: RuntimeWarning: invalid value encountered in true_divide\n",
            "  c /= stddev[:, None]\n",
            "/usr/local/lib/python3.6/dist-packages/numpy/lib/function_base.py:2535: RuntimeWarning: invalid value encountered in true_divide\n",
            "  c /= stddev[None, :]\n",
            "/usr/local/lib/python3.6/dist-packages/numpy/lib/function_base.py:2534: RuntimeWarning: invalid value encountered in true_divide\n",
            "  c /= stddev[:, None]\n",
            "/usr/local/lib/python3.6/dist-packages/numpy/lib/function_base.py:2535: RuntimeWarning: invalid value encountered in true_divide\n",
            "  c /= stddev[None, :]\n",
            "/usr/local/lib/python3.6/dist-packages/numpy/lib/function_base.py:2534: RuntimeWarning: invalid value encountered in true_divide\n",
            "  c /= stddev[:, None]\n",
            "/usr/local/lib/python3.6/dist-packages/numpy/lib/function_base.py:2535: RuntimeWarning: invalid value encountered in true_divide\n",
            "  c /= stddev[None, :]\n",
            "/usr/local/lib/python3.6/dist-packages/numpy/lib/function_base.py:2534: RuntimeWarning: invalid value encountered in true_divide\n",
            "  c /= stddev[:, None]\n",
            "/usr/local/lib/python3.6/dist-packages/numpy/lib/function_base.py:2535: RuntimeWarning: invalid value encountered in true_divide\n",
            "  c /= stddev[None, :]\n",
            "/usr/local/lib/python3.6/dist-packages/numpy/lib/function_base.py:2534: RuntimeWarning: invalid value encountered in true_divide\n",
            "  c /= stddev[:, None]\n",
            "/usr/local/lib/python3.6/dist-packages/numpy/lib/function_base.py:2535: RuntimeWarning: invalid value encountered in true_divide\n",
            "  c /= stddev[None, :]\n",
            "/usr/local/lib/python3.6/dist-packages/numpy/lib/function_base.py:2534: RuntimeWarning: invalid value encountered in true_divide\n",
            "  c /= stddev[:, None]\n",
            "/usr/local/lib/python3.6/dist-packages/numpy/lib/function_base.py:2535: RuntimeWarning: invalid value encountered in true_divide\n",
            "  c /= stddev[None, :]\n",
            "/usr/local/lib/python3.6/dist-packages/numpy/lib/function_base.py:2534: RuntimeWarning: invalid value encountered in true_divide\n",
            "  c /= stddev[:, None]\n",
            "/usr/local/lib/python3.6/dist-packages/numpy/lib/function_base.py:2535: RuntimeWarning: invalid value encountered in true_divide\n",
            "  c /= stddev[None, :]\n",
            "/usr/local/lib/python3.6/dist-packages/numpy/lib/function_base.py:2534: RuntimeWarning: invalid value encountered in true_divide\n",
            "  c /= stddev[:, None]\n",
            "/usr/local/lib/python3.6/dist-packages/numpy/lib/function_base.py:2535: RuntimeWarning: invalid value encountered in true_divide\n",
            "  c /= stddev[None, :]\n",
            "/usr/local/lib/python3.6/dist-packages/numpy/lib/function_base.py:2534: RuntimeWarning: invalid value encountered in true_divide\n",
            "  c /= stddev[:, None]\n",
            "/usr/local/lib/python3.6/dist-packages/numpy/lib/function_base.py:2535: RuntimeWarning: invalid value encountered in true_divide\n",
            "  c /= stddev[None, :]\n",
            "/usr/local/lib/python3.6/dist-packages/numpy/lib/function_base.py:2534: RuntimeWarning: invalid value encountered in true_divide\n",
            "  c /= stddev[:, None]\n",
            "/usr/local/lib/python3.6/dist-packages/numpy/lib/function_base.py:2535: RuntimeWarning: invalid value encountered in true_divide\n",
            "  c /= stddev[None, :]\n"
          ],
          "name": "stderr"
        }
      ]
    },
    {
      "cell_type": "code",
      "metadata": {
        "id": "_McFlq1yMfKj",
        "colab_type": "code",
        "colab": {},
        "outputId": "371378fa-6ce5-4c11-cf2f-3ee7301e657f"
      },
      "source": [
        "Filter_Features"
      ],
      "execution_count": 0,
      "outputs": [
        {
          "output_type": "execute_result",
          "data": {
            "text/plain": [
              "[247, 153, 331, 477, 288, 65, 103, 571, 540]"
            ]
          },
          "metadata": {
            "tags": []
          },
          "execution_count": 14
        }
      ]
    },
    {
      "cell_type": "code",
      "metadata": {
        "id": "N6QirySPMfKr",
        "colab_type": "code",
        "colab": {},
        "outputId": "a43c786d-e39e-45d4-a54d-7107879bad8f"
      },
      "source": [
        "Filter_Results = []\n",
        "    \n",
        "#creating my model variables based on the IntDet_model dataframe, and the Class series\n",
        "#test size is 1/4 the size of our input data, and we have 42 variabels total\n",
        "X_train, X_validation, Y_train, Y_validation = train_test_split(X_resam[Filter_Features], Y_resam, \n",
        "                                                test_size=0.25)\n",
        "\n",
        "# using the models below to evaluate my selected features\n",
        "models = []\n",
        "models.append(('LR', LogisticRegression(solver='liblinear', multi_class='ovr')))\n",
        "models.append(('LDA', LinearDiscriminantAnalysis()))\n",
        "models.append(('KNN', KNeighborsClassifier()))\n",
        "models.append(('CART', DecisionTreeClassifier()))\n",
        "models.append(('NB', GaussianNB()))\n",
        "models.append(('SVM', SVC(gamma='auto')))\n",
        "# evaluate each model in turn\n",
        "results = []\n",
        "names = []\n",
        "    \n",
        "for name, model in models:\n",
        "    kfold = StratifiedKFold(n_splits=10)\n",
        "    cv_results = cross_val_score(model, X_train, Y_train, cv=kfold, scoring='accuracy')\n",
        "    results.append(cv_results)\n",
        "    names.append(name)\n",
        "    Filter_Results.append([name, cv_results.mean(), cv_results.std()])    \n",
        "\n",
        "Filter_Results = pd.DataFrame(Filter_Results)\n",
        "Filter_Results.columns = ['Model', 'Accuracy Mean', 'Accuracy SD']\n",
        "Filter_Results"
      ],
      "execution_count": 0,
      "outputs": [
        {
          "output_type": "execute_result",
          "data": {
            "text/html": [
              "<div>\n",
              "<style scoped>\n",
              "    .dataframe tbody tr th:only-of-type {\n",
              "        vertical-align: middle;\n",
              "    }\n",
              "\n",
              "    .dataframe tbody tr th {\n",
              "        vertical-align: top;\n",
              "    }\n",
              "\n",
              "    .dataframe thead th {\n",
              "        text-align: right;\n",
              "    }\n",
              "</style>\n",
              "<table border=\"1\" class=\"dataframe\">\n",
              "  <thead>\n",
              "    <tr style=\"text-align: right;\">\n",
              "      <th></th>\n",
              "      <th>Model</th>\n",
              "      <th>Accuracy Mean</th>\n",
              "      <th>Accuracy SD</th>\n",
              "    </tr>\n",
              "  </thead>\n",
              "  <tbody>\n",
              "    <tr>\n",
              "      <th>0</th>\n",
              "      <td>LR</td>\n",
              "      <td>0.612162</td>\n",
              "      <td>0.041122</td>\n",
              "    </tr>\n",
              "    <tr>\n",
              "      <th>1</th>\n",
              "      <td>LDA</td>\n",
              "      <td>0.669595</td>\n",
              "      <td>0.038868</td>\n",
              "    </tr>\n",
              "    <tr>\n",
              "      <th>2</th>\n",
              "      <td>KNN</td>\n",
              "      <td>0.681757</td>\n",
              "      <td>0.047147</td>\n",
              "    </tr>\n",
              "    <tr>\n",
              "      <th>3</th>\n",
              "      <td>CART</td>\n",
              "      <td>0.847973</td>\n",
              "      <td>0.029179</td>\n",
              "    </tr>\n",
              "    <tr>\n",
              "      <th>4</th>\n",
              "      <td>NB</td>\n",
              "      <td>0.704730</td>\n",
              "      <td>0.043690</td>\n",
              "    </tr>\n",
              "    <tr>\n",
              "      <th>5</th>\n",
              "      <td>SVM</td>\n",
              "      <td>0.631757</td>\n",
              "      <td>0.040681</td>\n",
              "    </tr>\n",
              "  </tbody>\n",
              "</table>\n",
              "</div>"
            ],
            "text/plain": [
              "  Model  Accuracy Mean  Accuracy SD\n",
              "0    LR       0.612162     0.041122\n",
              "1   LDA       0.669595     0.038868\n",
              "2   KNN       0.681757     0.047147\n",
              "3  CART       0.847973     0.029179\n",
              "4    NB       0.704730     0.043690\n",
              "5   SVM       0.631757     0.040681"
            ]
          },
          "metadata": {
            "tags": []
          },
          "execution_count": 15
        }
      ]
    },
    {
      "cell_type": "code",
      "metadata": {
        "id": "UAKDTVzrMfKx",
        "colab_type": "code",
        "colab": {}
      },
      "source": [
        "#Backward Model Selection\n",
        "# Recursive Feature Elimination\n",
        "from sklearn.datasets import make_friedman1\n",
        "from sklearn.feature_selection import RFE \n",
        "from sklearn.linear_model import LinearRegression\n",
        "\n",
        "LinReg = LinearRegression()\n",
        "selector = RFE(LinReg, 10, step=1)#select 5 features. Step=1 means each step only remove 1 variable from the model\n",
        "selector = selector.fit(X_resam, Y_resam)\n",
        "# The mask of selected features.\n",
        "# selected features are ranked 1. The 6th is the one that is removed first,\n",
        "# 2nd is the one that is removed last\n",
        "X_resam = pd.DataFrame(X_resam) #need to be a df for below's transformations\n",
        "Wrapper_Features_df = pd.DataFrame(np.stack((X_resam.columns, selector.support_, selector.ranking_)))\n",
        "Wrapper_Features_df = Wrapper_Features_df.transpose()\n",
        "Wrapper_Features_df.columns = ['Variable', 'Support', 'Ranking']\n",
        "Wrapper_Features_df.sort_values(by='Ranking')\n",
        "Wrapper_Features_df = Wrapper_Features_df[Wrapper_Features_df['Ranking']==1]\n",
        "Wrapper_Features_df #feature selection from the wrapper method!\n",
        "\n",
        "Wrapper_Features = list(Wrapper_Features_df['Variable'])"
      ],
      "execution_count": 0,
      "outputs": []
    },
    {
      "cell_type": "code",
      "metadata": {
        "id": "ids5bNaFMfK2",
        "colab_type": "code",
        "colab": {
          "base_uri": "https://localhost:8080/",
          "height": 35
        },
        "outputId": "443579df-0da9-4e09-bc5e-f764d7e79441"
      },
      "source": [
        "Wrapper_Features"
      ],
      "execution_count": 20,
      "outputs": [
        {
          "output_type": "execute_result",
          "data": {
            "text/plain": [
              "[34, 36, 92, 95, 101, 105, 244, 357, 358, 382]"
            ]
          },
          "metadata": {
            "tags": []
          },
          "execution_count": 20
        }
      ]
    },
    {
      "cell_type": "code",
      "metadata": {
        "id": "iSNr6uw1MfK8",
        "colab_type": "code",
        "colab": {
          "base_uri": "https://localhost:8080/",
          "height": 237
        },
        "outputId": "f37f3ff4-ea2b-48f0-8df9-a9d1d0cc44a8"
      },
      "source": [
        "Wrapper_Results = []\n",
        "    \n",
        "#creating my model variables based on the IntDet_model dataframe, and the Class series\n",
        "#test size is 1/4 the size of our input data, and we have 42 variabels total\n",
        "X_train, X_validation, Y_train, Y_validation = train_test_split(X_resam[Wrapper_Features], Y_resam, \n",
        "                                                test_size=0.25)\n",
        "\n",
        "# using the models below to evaluate my selected features\n",
        "models = []\n",
        "models.append(('LR', LogisticRegression(solver='liblinear', multi_class='ovr')))\n",
        "models.append(('LDA', LinearDiscriminantAnalysis()))\n",
        "models.append(('KNN', KNeighborsClassifier()))\n",
        "models.append(('CART', DecisionTreeClassifier()))\n",
        "models.append(('NB', GaussianNB()))\n",
        "models.append(('SVM', SVC(gamma='auto')))\n",
        "# evaluate each model in turn\n",
        "results = []\n",
        "names = []\n",
        "    \n",
        "for name, model in models:\n",
        "    kfold = StratifiedKFold(n_splits=10)\n",
        "    cv_results = cross_val_score(model, X_train, Y_train, cv=kfold, scoring='accuracy')\n",
        "    results.append(cv_results)\n",
        "    names.append(name)\n",
        "    Wrapper_Results.append([name, cv_results.mean(), cv_results.std()])    \n",
        "\n",
        "Wrapper_Results = pd.DataFrame(Wrapper_Results)\n",
        "Wrapper_Results.columns = ['Model', 'Accuracy Mean', 'Accuracy SD']\n",
        "Wrapper_Results"
      ],
      "execution_count": 21,
      "outputs": [
        {
          "output_type": "execute_result",
          "data": {
            "text/html": [
              "<div>\n",
              "<style scoped>\n",
              "    .dataframe tbody tr th:only-of-type {\n",
              "        vertical-align: middle;\n",
              "    }\n",
              "\n",
              "    .dataframe tbody tr th {\n",
              "        vertical-align: top;\n",
              "    }\n",
              "\n",
              "    .dataframe thead th {\n",
              "        text-align: right;\n",
              "    }\n",
              "</style>\n",
              "<table border=\"1\" class=\"dataframe\">\n",
              "  <thead>\n",
              "    <tr style=\"text-align: right;\">\n",
              "      <th></th>\n",
              "      <th>Model</th>\n",
              "      <th>Accuracy Mean</th>\n",
              "      <th>Accuracy SD</th>\n",
              "    </tr>\n",
              "  </thead>\n",
              "  <tbody>\n",
              "    <tr>\n",
              "      <th>0</th>\n",
              "      <td>LR</td>\n",
              "      <td>0.547642</td>\n",
              "      <td>0.029922</td>\n",
              "    </tr>\n",
              "    <tr>\n",
              "      <th>1</th>\n",
              "      <td>LDA</td>\n",
              "      <td>0.649733</td>\n",
              "      <td>0.035666</td>\n",
              "    </tr>\n",
              "    <tr>\n",
              "      <th>2</th>\n",
              "      <td>KNN</td>\n",
              "      <td>0.650427</td>\n",
              "      <td>0.032957</td>\n",
              "    </tr>\n",
              "    <tr>\n",
              "      <th>3</th>\n",
              "      <td>CART</td>\n",
              "      <td>0.911418</td>\n",
              "      <td>0.020191</td>\n",
              "    </tr>\n",
              "    <tr>\n",
              "      <th>4</th>\n",
              "      <td>NB</td>\n",
              "      <td>0.586197</td>\n",
              "      <td>0.044065</td>\n",
              "    </tr>\n",
              "    <tr>\n",
              "      <th>5</th>\n",
              "      <td>SVM</td>\n",
              "      <td>0.531398</td>\n",
              "      <td>0.032234</td>\n",
              "    </tr>\n",
              "  </tbody>\n",
              "</table>\n",
              "</div>"
            ],
            "text/plain": [
              "  Model  Accuracy Mean  Accuracy SD\n",
              "0    LR       0.547642     0.029922\n",
              "1   LDA       0.649733     0.035666\n",
              "2   KNN       0.650427     0.032957\n",
              "3  CART       0.911418     0.020191\n",
              "4    NB       0.586197     0.044065\n",
              "5   SVM       0.531398     0.032234"
            ]
          },
          "metadata": {
            "tags": []
          },
          "execution_count": 21
        }
      ]
    },
    {
      "cell_type": "code",
      "metadata": {
        "id": "AdM-i_MMMfLC",
        "colab_type": "code",
        "colab": {}
      },
      "source": [
        "# LASSO\n",
        "from sklearn import linear_model\n",
        "\n",
        "alpha = .01 # Increasing alpha can shrink more variable coefficients to 0\n",
        "clf = linear_model.Lasso(alpha=alpha)\n",
        "clf.fit(X_resam, Y_resam)\n",
        "\n",
        "Embedded_Features_df = pd.DataFrame(np.stack((X_resam.columns, clf.coef_)))\n",
        "Embedded_Features_df = Embedded_Features_df.transpose()\n",
        "Embedded_Features_df.columns = ['Variable', 'Coefficients']\n",
        "Embedded_Features_df.reindex(Embedded_Features_df['Coefficients'].abs().sort_values(ascending=False).index)\n",
        "Embedded_Features_df = Embedded_Features_df[Embedded_Features_df['Coefficients']!=0]\n",
        "Embedded_Features_df #feature selection from the Embedded Method!\n",
        "\n",
        "Embedded_Features = list(Embedded_Features_df['Variable'])"
      ],
      "execution_count": 0,
      "outputs": []
    },
    {
      "cell_type": "code",
      "metadata": {
        "id": "t9ED5EsfMfLH",
        "colab_type": "code",
        "colab": {},
        "outputId": "8426217d-1b98-480a-ec71-cc823881209d"
      },
      "source": [
        "Embedded_Features"
      ],
      "execution_count": 0,
      "outputs": [
        {
          "output_type": "execute_result",
          "data": {
            "text/plain": [
              "[0.0,\n",
              " 1.0,\n",
              " 2.0,\n",
              " 3.0,\n",
              " 6.0,\n",
              " 12.0,\n",
              " 14.0,\n",
              " 15.0,\n",
              " 18.0,\n",
              " 21.0,\n",
              " 22.0,\n",
              " 23.0,\n",
              " 24.0,\n",
              " 27.0,\n",
              " 28.0,\n",
              " 32.0,\n",
              " 33.0,\n",
              " 39.0,\n",
              " 40.0,\n",
              " 43.0,\n",
              " 45.0,\n",
              " 46.0,\n",
              " 48.0,\n",
              " 50.0,\n",
              " 51.0,\n",
              " 55.0,\n",
              " 59.0,\n",
              " 60.0,\n",
              " 62.0,\n",
              " 63.0,\n",
              " 64.0,\n",
              " 65.0,\n",
              " 66.0,\n",
              " 68.0,\n",
              " 70.0,\n",
              " 71.0,\n",
              " 72.0,\n",
              " 73.0,\n",
              " 88.0,\n",
              " 90.0,\n",
              " 115.0,\n",
              " 117.0,\n",
              " 133.0,\n",
              " 134.0,\n",
              " 135.0,\n",
              " 136.0,\n",
              " 137.0,\n",
              " 138.0,\n",
              " 139.0,\n",
              " 142.0,\n",
              " 148.0,\n",
              " 151.0,\n",
              " 154.0,\n",
              " 158.0,\n",
              " 159.0,\n",
              " 160.0,\n",
              " 161.0,\n",
              " 162.0,\n",
              " 177.0,\n",
              " 180.0,\n",
              " 182.0,\n",
              " 183.0,\n",
              " 185.0,\n",
              " 187.0,\n",
              " 188.0,\n",
              " 196.0,\n",
              " 197.0,\n",
              " 199.0,\n",
              " 200.0,\n",
              " 201.0,\n",
              " 202.0,\n",
              " 203.0,\n",
              " 205.0,\n",
              " 208.0,\n",
              " 223.0,\n",
              " 225.0,\n",
              " 246.0,\n",
              " 250.0,\n",
              " 268.0,\n",
              " 270.0,\n",
              " 271.0,\n",
              " 272.0,\n",
              " 273.0,\n",
              " 274.0,\n",
              " 286.0,\n",
              " 289.0,\n",
              " 293.0,\n",
              " 294.0,\n",
              " 295.0,\n",
              " 296.0,\n",
              " 297.0,\n",
              " 319.0,\n",
              " 323.0,\n",
              " 324.0,\n",
              " 335.0,\n",
              " 339.0,\n",
              " 341.0,\n",
              " 344.0,\n",
              " 346.0,\n",
              " 361.0,\n",
              " 363.0,\n",
              " 388.0,\n",
              " 406.0,\n",
              " 411.0,\n",
              " 412.0,\n",
              " 413.0,\n",
              " 415.0,\n",
              " 416.0,\n",
              " 417.0,\n",
              " 418.0,\n",
              " 419.0,\n",
              " 421.0,\n",
              " 423.0,\n",
              " 425.0,\n",
              " 427.0,\n",
              " 428.0,\n",
              " 429.0,\n",
              " 430.0,\n",
              " 431.0,\n",
              " 432.0,\n",
              " 433.0,\n",
              " 434.0,\n",
              " 436.0,\n",
              " 437.0,\n",
              " 438.0,\n",
              " 439.0,\n",
              " 442.0,\n",
              " 453.0,\n",
              " 456.0,\n",
              " 460.0,\n",
              " 468.0,\n",
              " 470.0,\n",
              " 471.0,\n",
              " 472.0,\n",
              " 473.0,\n",
              " 474.0,\n",
              " 476.0,\n",
              " 477.0,\n",
              " 482.0,\n",
              " 483.0,\n",
              " 484.0,\n",
              " 485.0,\n",
              " 486.0,\n",
              " 487.0,\n",
              " 488.0,\n",
              " 489.0,\n",
              " 490.0,\n",
              " 491.0,\n",
              " 492.0,\n",
              " 493.0,\n",
              " 494.0,\n",
              " 495.0,\n",
              " 496.0,\n",
              " 497.0,\n",
              " 499.0,\n",
              " 500.0,\n",
              " 510.0,\n",
              " 511.0,\n",
              " 519.0,\n",
              " 521.0,\n",
              " 524.0,\n",
              " 526.0,\n",
              " 539.0,\n",
              " 541.0,\n",
              " 547.0,\n",
              " 548.0,\n",
              " 553.0,\n",
              " 555.0,\n",
              " 557.0,\n",
              " 561.0,\n",
              " 562.0,\n",
              " 564.0,\n",
              " 569.0,\n",
              " 570.0,\n",
              " 572.0,\n",
              " 574.0,\n",
              " 577.0,\n",
              " 581.0]"
            ]
          },
          "metadata": {
            "tags": []
          },
          "execution_count": 20
        }
      ]
    },
    {
      "cell_type": "code",
      "metadata": {
        "id": "9RG9Hn1JMfLO",
        "colab_type": "code",
        "colab": {},
        "outputId": "8693b9c9-254e-4c35-d785-33a652995985"
      },
      "source": [
        "Embedded_Results = []\n",
        "    \n",
        "#creating my model variables based on the IntDet_model dataframe, and the Class series\n",
        "#test size is 1/4 the size of our input data, and we have 42 variabels total\n",
        "X_train, X_validation, Y_train, Y_validation = train_test_split(X_resam[Embedded_Features], Y_resam, \n",
        "                                                test_size=0.25)\n",
        "\n",
        "# using the models below to evaluate my selected features\n",
        "models = []\n",
        "models.append(('LR', LogisticRegression(solver='liblinear', multi_class='ovr')))\n",
        "models.append(('LDA', LinearDiscriminantAnalysis()))\n",
        "models.append(('KNN', KNeighborsClassifier()))\n",
        "models.append(('CART', DecisionTreeClassifier()))\n",
        "models.append(('NB', GaussianNB()))\n",
        "models.append(('SVM', SVC(gamma='auto')))\n",
        "# evaluate each model in turn\n",
        "results = []\n",
        "names = []\n",
        "    \n",
        "for name, model in models:\n",
        "    kfold = StratifiedKFold(n_splits=10)\n",
        "    cv_results = cross_val_score(model, X_train, Y_train, cv=kfold, scoring='accuracy')\n",
        "    results.append(cv_results)\n",
        "    names.append(name)\n",
        "    Embedded_Results.append([name, cv_results.mean(), cv_results.std()])    \n",
        "\n",
        "Embedded_Results = pd.DataFrame(Embedded_Results)\n",
        "Embedded_Results.columns = ['Model', 'Accuracy Mean', 'Accuracy SD']\n",
        "Embedded_Results"
      ],
      "execution_count": 0,
      "outputs": [
        {
          "output_type": "stream",
          "text": [
            "C:\\Users\\natal\\AnacondaNEW\\lib\\site-packages\\sklearn\\svm\\_base.py:947: ConvergenceWarning: Liblinear failed to converge, increase the number of iterations.\n",
            "  \"the number of iterations.\", ConvergenceWarning)\n",
            "C:\\Users\\natal\\AnacondaNEW\\lib\\site-packages\\sklearn\\svm\\_base.py:947: ConvergenceWarning: Liblinear failed to converge, increase the number of iterations.\n",
            "  \"the number of iterations.\", ConvergenceWarning)\n",
            "C:\\Users\\natal\\AnacondaNEW\\lib\\site-packages\\sklearn\\svm\\_base.py:947: ConvergenceWarning: Liblinear failed to converge, increase the number of iterations.\n",
            "  \"the number of iterations.\", ConvergenceWarning)\n",
            "C:\\Users\\natal\\AnacondaNEW\\lib\\site-packages\\sklearn\\svm\\_base.py:947: ConvergenceWarning: Liblinear failed to converge, increase the number of iterations.\n",
            "  \"the number of iterations.\", ConvergenceWarning)\n",
            "C:\\Users\\natal\\AnacondaNEW\\lib\\site-packages\\sklearn\\svm\\_base.py:947: ConvergenceWarning: Liblinear failed to converge, increase the number of iterations.\n",
            "  \"the number of iterations.\", ConvergenceWarning)\n",
            "C:\\Users\\natal\\AnacondaNEW\\lib\\site-packages\\sklearn\\svm\\_base.py:947: ConvergenceWarning: Liblinear failed to converge, increase the number of iterations.\n",
            "  \"the number of iterations.\", ConvergenceWarning)\n",
            "C:\\Users\\natal\\AnacondaNEW\\lib\\site-packages\\sklearn\\svm\\_base.py:947: ConvergenceWarning: Liblinear failed to converge, increase the number of iterations.\n",
            "  \"the number of iterations.\", ConvergenceWarning)\n",
            "C:\\Users\\natal\\AnacondaNEW\\lib\\site-packages\\sklearn\\svm\\_base.py:947: ConvergenceWarning: Liblinear failed to converge, increase the number of iterations.\n",
            "  \"the number of iterations.\", ConvergenceWarning)\n",
            "C:\\Users\\natal\\AnacondaNEW\\lib\\site-packages\\sklearn\\svm\\_base.py:947: ConvergenceWarning: Liblinear failed to converge, increase the number of iterations.\n",
            "  \"the number of iterations.\", ConvergenceWarning)\n",
            "C:\\Users\\natal\\AnacondaNEW\\lib\\site-packages\\sklearn\\svm\\_base.py:947: ConvergenceWarning: Liblinear failed to converge, increase the number of iterations.\n",
            "  \"the number of iterations.\", ConvergenceWarning)\n"
          ],
          "name": "stderr"
        },
        {
          "output_type": "execute_result",
          "data": {
            "text/html": [
              "<div>\n",
              "<style scoped>\n",
              "    .dataframe tbody tr th:only-of-type {\n",
              "        vertical-align: middle;\n",
              "    }\n",
              "\n",
              "    .dataframe tbody tr th {\n",
              "        vertical-align: top;\n",
              "    }\n",
              "\n",
              "    .dataframe thead th {\n",
              "        text-align: right;\n",
              "    }\n",
              "</style>\n",
              "<table border=\"1\" class=\"dataframe\">\n",
              "  <thead>\n",
              "    <tr style=\"text-align: right;\">\n",
              "      <th></th>\n",
              "      <th>Model</th>\n",
              "      <th>Accuracy Mean</th>\n",
              "      <th>Accuracy SD</th>\n",
              "    </tr>\n",
              "  </thead>\n",
              "  <tbody>\n",
              "    <tr>\n",
              "      <th>0</th>\n",
              "      <td>LR</td>\n",
              "      <td>0.932432</td>\n",
              "      <td>0.008547</td>\n",
              "    </tr>\n",
              "    <tr>\n",
              "      <th>1</th>\n",
              "      <td>LDA</td>\n",
              "      <td>0.906081</td>\n",
              "      <td>0.018492</td>\n",
              "    </tr>\n",
              "    <tr>\n",
              "      <th>2</th>\n",
              "      <td>KNN</td>\n",
              "      <td>0.770946</td>\n",
              "      <td>0.025720</td>\n",
              "    </tr>\n",
              "    <tr>\n",
              "      <th>3</th>\n",
              "      <td>CART</td>\n",
              "      <td>0.910811</td>\n",
              "      <td>0.021324</td>\n",
              "    </tr>\n",
              "    <tr>\n",
              "      <th>4</th>\n",
              "      <td>NB</td>\n",
              "      <td>0.885811</td>\n",
              "      <td>0.022092</td>\n",
              "    </tr>\n",
              "    <tr>\n",
              "      <th>5</th>\n",
              "      <td>SVM</td>\n",
              "      <td>0.535811</td>\n",
              "      <td>0.006081</td>\n",
              "    </tr>\n",
              "  </tbody>\n",
              "</table>\n",
              "</div>"
            ],
            "text/plain": [
              "  Model  Accuracy Mean  Accuracy SD\n",
              "0    LR       0.932432     0.008547\n",
              "1   LDA       0.906081     0.018492\n",
              "2   KNN       0.770946     0.025720\n",
              "3  CART       0.910811     0.021324\n",
              "4    NB       0.885811     0.022092\n",
              "5   SVM       0.535811     0.006081"
            ]
          },
          "metadata": {
            "tags": []
          },
          "execution_count": 21
        }
      ]
    },
    {
      "cell_type": "code",
      "metadata": {
        "id": "KiVkzG2XMfLV",
        "colab_type": "code",
        "colab": {},
        "outputId": "a82e979f-b4a2-4b12-837b-d1cd13270425"
      },
      "source": [
        "plt.figure(figsize=(15, 5))\n",
        "\n",
        "plt.barh(Filter_Results['Model'], Filter_Results['Accuracy Mean'], alpha=.3, label='Filter')\n",
        "plt.barh(Wrapper_Results['Model'], Wrapper_Results['Accuracy Mean'], alpha=.3, label='Wrapper')\n",
        "plt.barh(Embedded_Results['Model'], Embedded_Results['Accuracy Mean'], alpha=.3, label='Embedded')\n",
        "plt.legend()\n",
        "plt.xlabel('Accuracy Mean')\n",
        "plt.ylabel('Model')\n",
        "plt.title('Showing Accuracy per Method')\n",
        "plt.show()"
      ],
      "execution_count": 0,
      "outputs": [
        {
          "output_type": "display_data",
          "data": {
            "image/png": "[encoded data removed]",
            "text/plain": [
              "<Figure size 1080x360 with 1 Axes>"
            ]
          },
          "metadata": {
            "tags": [],
            "needs_background": "light"
          }
        }
      ]
    },
    {
      "cell_type": "markdown",
      "metadata": {
        "id": "f-A7K53aMfLZ",
        "colab_type": "text"
      },
      "source": [
        "In the bar chart above, it looks at first like Embedded method features have the highest accuracy in this senario. However, it's a bit of a red flag that most of the model methods have the highest accuracy with the Embedded features. The Embedded features may be overfitting the dataset. \n",
        "\n",
        "Instead, I will use the Wrapper method features because they scored the 2nd highest in accuracy mean accross all feature selection methods and model types."
      ]
    },
    {
      "cell_type": "markdown",
      "metadata": {
        "id": "tSj3SRO4MfLa",
        "colab_type": "text"
      },
      "source": [
        "# Begin Milestone02"
      ]
    },
    {
      "cell_type": "markdown",
      "metadata": {
        "id": "bY6aupDjMfLb",
        "colab_type": "text"
      },
      "source": [
        "## Model Evaluation\n",
        "\n",
        "I had previously determined for Milestone01 that the features selected by the wrapper method to predict the target variable (diaper_df[591]) yeilded the best model results. Therefore, for Milestone02 I will be using only those features selected by the wrapper method (Wrapper_Features) in the decision tree, ensemble, and SVM models to come.\n",
        "\n",
        "After testing each of the models: Decision Tree, Ensemble, and SVM, I noticed that the accuracy of each model was decreasing as I ran the models. I'm wondering if I did anything to make this happen and how to fix this? I'm confused on how to know when a result is real or fake."
      ]
    },
    {
      "cell_type": "markdown",
      "metadata": {
        "id": "GGZW8tCjMfLb",
        "colab_type": "text"
      },
      "source": [
        "#### Decision Tree Model"
      ]
    },
    {
      "cell_type": "code",
      "metadata": {
        "id": "MnmHjgcxMfLc",
        "colab_type": "code",
        "colab": {}
      },
      "source": [
        "#defining the features, X, and the target is still Y from before\n",
        "X = X_resam[Wrapper_Features] \n",
        "Y = Y_resam"
      ],
      "execution_count": 0,
      "outputs": []
    },
    {
      "cell_type": "code",
      "metadata": {
        "id": "T1Tcl9uRMfLf",
        "colab_type": "code",
        "colab": {}
      },
      "source": [
        "#ensure that the decision tree is deterministic\n",
        "import numpy as np\n",
        "np.random.seed(101)"
      ],
      "execution_count": 0,
      "outputs": []
    },
    {
      "cell_type": "code",
      "metadata": {
        "id": "G7-B7I7eMfLj",
        "colab_type": "code",
        "colab": {}
      },
      "source": [
        "#creating my model variables\n",
        "X_train, X_test, y_train, y_test = train_test_split(X, Y, test_size = 0.2)"
      ],
      "execution_count": 0,
      "outputs": []
    },
    {
      "cell_type": "code",
      "metadata": {
        "id": "L-hULL91MfLn",
        "colab_type": "code",
        "colab": {}
      },
      "source": [
        "# Use entropy = no limit on samples for split\n",
        "model_ent = DecisionTreeClassifier(criterion='entropy', random_state=1).fit(X_train, y_train) \n",
        "y_ent_pred = model_ent.predict(X_test)\n",
        "\n",
        "# Use information gain (default) limit min_samples to 4\n",
        "model_gini = DecisionTreeClassifier(min_samples_leaf=3).fit(X_train, y_train)\n",
        "y_gini_pred = model_gini.predict(X_test)\n",
        "\n",
        "# NOTE: You should, when testing models, only vary 1 thing at a time. "
      ],
      "execution_count": 0,
      "outputs": []
    },
    {
      "cell_type": "code",
      "metadata": {
        "id": "qdXUBSqWMfLp",
        "colab_type": "code",
        "colab": {
          "base_uri": "https://localhost:8080/",
          "height": 54
        },
        "outputId": "a97ae1af-5f73-4e40-acde-8ed1c1399bcf"
      },
      "source": [
        "# Generate an accuracy Score\n",
        "print(\"Entropy accuracy is : {}%\".format(accuracy_score(y_test, y_ent_pred)*100))\n",
        "print(\"Gini accuracy is : {}%\".format(accuracy_score(y_test, y_gini_pred)*100))\n",
        "\n",
        "accuracy_ent = round(np.sum(accuracy_score(y_test, y_ent_pred)*100))\n",
        "accuracy_gini = round(np.sum(accuracy_score(y_test, y_gini_pred)*100))\n",
        "\n",
        "Accuracy_DecTree = pd.DataFrame(np.array([['DecTree_entropy',accuracy_ent], \n",
        "                                ['DecTree_gini',accuracy_gini]]))"
      ],
      "execution_count": 36,
      "outputs": [
        {
          "output_type": "stream",
          "text": [
            "Entropy accuracy is : 91.64556962025317%\n",
            "Gini accuracy is : 91.64556962025317%\n"
          ],
          "name": "stdout"
        }
      ]
    },
    {
      "cell_type": "code",
      "metadata": {
        "id": "tClvNSq9MfLt",
        "colab_type": "code",
        "colab": {
          "base_uri": "https://localhost:8080/",
          "height": 112
        },
        "outputId": "a4a3e163-b4ea-4fe3-98a9-2b3ef08f5b8b"
      },
      "source": [
        "#confusion matrix\n",
        "pd.DataFrame(\n",
        "    confusion_matrix(y_test, y_gini_pred),\n",
        "    columns=['Predicted 1', 'Predicted -1'],\n",
        "    index=['True 1', 'True -1']\n",
        ")"
      ],
      "execution_count": 37,
      "outputs": [
        {
          "output_type": "execute_result",
          "data": {
            "text/html": [
              "<div>\n",
              "<style scoped>\n",
              "    .dataframe tbody tr th:only-of-type {\n",
              "        vertical-align: middle;\n",
              "    }\n",
              "\n",
              "    .dataframe tbody tr th {\n",
              "        vertical-align: top;\n",
              "    }\n",
              "\n",
              "    .dataframe thead th {\n",
              "        text-align: right;\n",
              "    }\n",
              "</style>\n",
              "<table border=\"1\" class=\"dataframe\">\n",
              "  <thead>\n",
              "    <tr style=\"text-align: right;\">\n",
              "      <th></th>\n",
              "      <th>Predicted 1</th>\n",
              "      <th>Predicted -1</th>\n",
              "    </tr>\n",
              "  </thead>\n",
              "  <tbody>\n",
              "    <tr>\n",
              "      <th>True 1</th>\n",
              "      <td>176</td>\n",
              "      <td>14</td>\n",
              "    </tr>\n",
              "    <tr>\n",
              "      <th>True -1</th>\n",
              "      <td>19</td>\n",
              "      <td>186</td>\n",
              "    </tr>\n",
              "  </tbody>\n",
              "</table>\n",
              "</div>"
            ],
            "text/plain": [
              "         Predicted 1  Predicted -1\n",
              "True 1           176            14\n",
              "True -1           19           186"
            ]
          },
          "metadata": {
            "tags": []
          },
          "execution_count": 37
        }
      ]
    },
    {
      "cell_type": "markdown",
      "metadata": {
        "id": "t-6HOnheMfLw",
        "colab_type": "text"
      },
      "source": [
        "Notice how many false predictions this model returns.\n",
        "\n",
        "#### Ensemble Model"
      ]
    },
    {
      "cell_type": "code",
      "metadata": {
        "id": "8BvDwd7dMfLw",
        "colab_type": "code",
        "colab": {
          "base_uri": "https://localhost:8080/",
          "height": 54
        },
        "outputId": "bc17af54-179e-4381-865e-0395d1e89019"
      },
      "source": [
        "nTrees = 100\n",
        "max_depth = 10\n",
        "min_node_size = 10\n",
        "verbose = 0\n",
        "\n",
        "clf = RandomForestClassifier(n_estimators=nTrees, max_depth=max_depth, verbose=verbose, min_samples_leaf=min_node_size)\n",
        "clf.fit(X_train, y_train)\n",
        "print(clf.feature_importances_)"
      ],
      "execution_count": 38,
      "outputs": [
        {
          "output_type": "stream",
          "text": [
            "[0.05487941 0.05357306 0.03974006 0.28519772 0.23081786 0.04299097\n",
            " 0.0213586  0.2302777  0.02473168 0.01643293]\n"
          ],
          "name": "stdout"
        }
      ]
    },
    {
      "cell_type": "markdown",
      "metadata": {
        "id": "GDI1y6n2MfL0",
        "colab_type": "text"
      },
      "source": [
        "From the feature importances above, it looks like our Random Forest classifier determined that the 3rd and 5th features in Wrapper_Features are the most useful."
      ]
    },
    {
      "cell_type": "code",
      "metadata": {
        "id": "1-pFw69YMfL1",
        "colab_type": "code",
        "colab": {
          "base_uri": "https://localhost:8080/",
          "height": 35
        },
        "outputId": "97985f1c-cf98-4bc9-bc77-658793e09d1e"
      },
      "source": [
        "y_rforest_pred = clf.predict(X_test)\n",
        "Accuracy = [1 for i in range(len(y_rforest_pred)) if y_test[i] == y_rforest_pred[i]]\n",
        "Accuracy = round(float(np.sum(Accuracy))/len(y_rforest_pred)*100,2)\n",
        "print(\"Accuracy on Testing Data = %.2f%%\"%Accuracy)\n",
        "\n",
        "Accuracy_ensemble = pd.DataFrame(np.array([['RandomForest',Accuracy]]))"
      ],
      "execution_count": 39,
      "outputs": [
        {
          "output_type": "stream",
          "text": [
            "Accuracy on Testing Data = 93.16%\n"
          ],
          "name": "stdout"
        }
      ]
    },
    {
      "cell_type": "code",
      "metadata": {
        "id": "3rXY9BrNMfL4",
        "colab_type": "code",
        "colab": {
          "base_uri": "https://localhost:8080/",
          "height": 112
        },
        "outputId": "3cc9d40f-66f0-49e8-e64a-5682c4205c41"
      },
      "source": [
        "#confusion matrix\n",
        "pd.DataFrame(\n",
        "    confusion_matrix(y_test, y_rforest_pred),\n",
        "    columns=['Predicted 1', 'Predicted -1'],\n",
        "    index=['True 1', 'True -1']\n",
        ")"
      ],
      "execution_count": 40,
      "outputs": [
        {
          "output_type": "execute_result",
          "data": {
            "text/html": [
              "<div>\n",
              "<style scoped>\n",
              "    .dataframe tbody tr th:only-of-type {\n",
              "        vertical-align: middle;\n",
              "    }\n",
              "\n",
              "    .dataframe tbody tr th {\n",
              "        vertical-align: top;\n",
              "    }\n",
              "\n",
              "    .dataframe thead th {\n",
              "        text-align: right;\n",
              "    }\n",
              "</style>\n",
              "<table border=\"1\" class=\"dataframe\">\n",
              "  <thead>\n",
              "    <tr style=\"text-align: right;\">\n",
              "      <th></th>\n",
              "      <th>Predicted 1</th>\n",
              "      <th>Predicted -1</th>\n",
              "    </tr>\n",
              "  </thead>\n",
              "  <tbody>\n",
              "    <tr>\n",
              "      <th>True 1</th>\n",
              "      <td>185</td>\n",
              "      <td>5</td>\n",
              "    </tr>\n",
              "    <tr>\n",
              "      <th>True -1</th>\n",
              "      <td>22</td>\n",
              "      <td>183</td>\n",
              "    </tr>\n",
              "  </tbody>\n",
              "</table>\n",
              "</div>"
            ],
            "text/plain": [
              "         Predicted 1  Predicted -1\n",
              "True 1           185             5\n",
              "True -1           22           183"
            ]
          },
          "metadata": {
            "tags": []
          },
          "execution_count": 40
        }
      ]
    },
    {
      "cell_type": "markdown",
      "metadata": {
        "id": "Q_otpzNzMfL-",
        "colab_type": "text"
      },
      "source": [
        "#### SVM Model"
      ]
    },
    {
      "cell_type": "code",
      "metadata": {
        "id": "imkTJPhFMfL-",
        "colab_type": "code",
        "colab": {}
      },
      "source": [
        "cost = .9 # penalty parameter of the error term\n",
        "gamma = 5 # defines the influence of input vectors on the margins"
      ],
      "execution_count": 0,
      "outputs": []
    },
    {
      "cell_type": "code",
      "metadata": {
        "id": "9-lVCu7xMfMB",
        "colab_type": "code",
        "colab": {}
      },
      "source": [
        "#defining X as the feature columns but zscored\n",
        "X = pd.DataFrame(ss.zscore(X),columns=X.columns)\n",
        "\n",
        "#creating my model variables\n",
        "X_train, X_test, y_train, y_test = train_test_split(X, Y, test_size = 0.2)"
      ],
      "execution_count": 0,
      "outputs": []
    },
    {
      "cell_type": "code",
      "metadata": {
        "id": "wNJ6Vte8MfMF",
        "colab_type": "code",
        "colab": {
          "base_uri": "https://localhost:8080/",
          "height": 598
        },
        "outputId": "7af72d27-0e12-409e-ee02-a6d028763397"
      },
      "source": [
        "# Test a LinearSVC\n",
        "clf1 = svm.LinearSVC(C=cost).fit(X_train, y_train)\n",
        "clf1.predict(X_test)\n",
        "print(\"LinearSVC\")\n",
        "print(classification_report(clf1.predict(X_test), y_test))\n",
        "\n",
        "Accuracy_svm = []\n",
        "\n",
        "# Test linear, rbf and poly kernels\n",
        "for k in ('linear', 'rbf', 'poly'):\n",
        "    clf = svm.SVC(gamma=gamma, kernel=k, C=cost).fit(X_train, y_train)\n",
        "    y_svm_pred = clf.predict(X_test)\n",
        "    Accuracy = [1 for i in range(len(y_svm_pred)) if y_test.iloc[i] == y_svm_pred[i]]\n",
        "    Accuracy = round(float(np.sum(Accuracy))/len(y_svm_pred)*100,2)\n",
        "    Accuracy_svm.append([k,Accuracy])\n",
        "    print(\"Accuracy on Testing Data = %.2f%%\"%Accuracy)    \n",
        "    print(k)\n",
        "    print(classification_report(clf.predict(X_test), y_test))"
      ],
      "execution_count": 43,
      "outputs": [
        {
          "output_type": "stream",
          "text": [
            "LinearSVC\n",
            "              precision    recall  f1-score   support\n",
            "\n",
            "          -1       0.62      0.65      0.64       193\n",
            "           1       0.65      0.62      0.63       202\n",
            "\n",
            "    accuracy                           0.64       395\n",
            "   macro avg       0.64      0.64      0.64       395\n",
            "weighted avg       0.64      0.64      0.64       395\n",
            "\n"
          ],
          "name": "stdout"
        },
        {
          "output_type": "stream",
          "text": [
            "/usr/local/lib/python3.6/dist-packages/sklearn/svm/_base.py:947: ConvergenceWarning: Liblinear failed to converge, increase the number of iterations.\n",
            "  \"the number of iterations.\", ConvergenceWarning)\n"
          ],
          "name": "stderr"
        },
        {
          "output_type": "error",
          "ename": "AttributeError",
          "evalue": "ignored",
          "traceback": [
            "\u001b[0;31m---------------------------------------------------------------------------\u001b[0m",
            "\u001b[0;31mAttributeError\u001b[0m                            Traceback (most recent call last)",
            "\u001b[0;32m<ipython-input-43-4779e0bed7ed>\u001b[0m in \u001b[0;36m<module>\u001b[0;34m()\u001b[0m\n\u001b[1;32m     11\u001b[0m     \u001b[0mclf\u001b[0m \u001b[0;34m=\u001b[0m \u001b[0msvm\u001b[0m\u001b[0;34m.\u001b[0m\u001b[0mSVC\u001b[0m\u001b[0;34m(\u001b[0m\u001b[0mgamma\u001b[0m\u001b[0;34m=\u001b[0m\u001b[0mgamma\u001b[0m\u001b[0;34m,\u001b[0m \u001b[0mkernel\u001b[0m\u001b[0;34m=\u001b[0m\u001b[0mk\u001b[0m\u001b[0;34m,\u001b[0m \u001b[0mC\u001b[0m\u001b[0;34m=\u001b[0m\u001b[0mcost\u001b[0m\u001b[0;34m)\u001b[0m\u001b[0;34m.\u001b[0m\u001b[0mfit\u001b[0m\u001b[0;34m(\u001b[0m\u001b[0mX_train\u001b[0m\u001b[0;34m,\u001b[0m \u001b[0my_train\u001b[0m\u001b[0;34m)\u001b[0m\u001b[0;34m\u001b[0m\u001b[0;34m\u001b[0m\u001b[0m\n\u001b[1;32m     12\u001b[0m     \u001b[0my_svm_pred\u001b[0m \u001b[0;34m=\u001b[0m \u001b[0mclf\u001b[0m\u001b[0;34m.\u001b[0m\u001b[0mpredict\u001b[0m\u001b[0;34m(\u001b[0m\u001b[0mX_test\u001b[0m\u001b[0;34m)\u001b[0m\u001b[0;34m\u001b[0m\u001b[0;34m\u001b[0m\u001b[0m\n\u001b[0;32m---> 13\u001b[0;31m     \u001b[0mAccuracy\u001b[0m \u001b[0;34m=\u001b[0m \u001b[0;34m[\u001b[0m\u001b[0;36m1\u001b[0m \u001b[0;32mfor\u001b[0m \u001b[0mi\u001b[0m \u001b[0;32min\u001b[0m \u001b[0mrange\u001b[0m\u001b[0;34m(\u001b[0m\u001b[0mlen\u001b[0m\u001b[0;34m(\u001b[0m\u001b[0my_svm_pred\u001b[0m\u001b[0;34m)\u001b[0m\u001b[0;34m)\u001b[0m \u001b[0;32mif\u001b[0m \u001b[0my_test\u001b[0m\u001b[0;34m.\u001b[0m\u001b[0miloc\u001b[0m\u001b[0;34m[\u001b[0m\u001b[0mi\u001b[0m\u001b[0;34m]\u001b[0m \u001b[0;34m==\u001b[0m \u001b[0my_svm_pred\u001b[0m\u001b[0;34m[\u001b[0m\u001b[0mi\u001b[0m\u001b[0;34m]\u001b[0m\u001b[0;34m]\u001b[0m\u001b[0;34m\u001b[0m\u001b[0;34m\u001b[0m\u001b[0m\n\u001b[0m\u001b[1;32m     14\u001b[0m     \u001b[0mAccuracy\u001b[0m \u001b[0;34m=\u001b[0m \u001b[0mround\u001b[0m\u001b[0;34m(\u001b[0m\u001b[0mfloat\u001b[0m\u001b[0;34m(\u001b[0m\u001b[0mnp\u001b[0m\u001b[0;34m.\u001b[0m\u001b[0msum\u001b[0m\u001b[0;34m(\u001b[0m\u001b[0mAccuracy\u001b[0m\u001b[0;34m)\u001b[0m\u001b[0;34m)\u001b[0m\u001b[0;34m/\u001b[0m\u001b[0mlen\u001b[0m\u001b[0;34m(\u001b[0m\u001b[0my_svm_pred\u001b[0m\u001b[0;34m)\u001b[0m\u001b[0;34m*\u001b[0m\u001b[0;36m100\u001b[0m\u001b[0;34m,\u001b[0m\u001b[0;36m2\u001b[0m\u001b[0;34m)\u001b[0m\u001b[0;34m\u001b[0m\u001b[0;34m\u001b[0m\u001b[0m\n\u001b[1;32m     15\u001b[0m     \u001b[0mAccuracy_svm\u001b[0m\u001b[0;34m.\u001b[0m\u001b[0mappend\u001b[0m\u001b[0;34m(\u001b[0m\u001b[0;34m[\u001b[0m\u001b[0mk\u001b[0m\u001b[0;34m,\u001b[0m\u001b[0mAccuracy\u001b[0m\u001b[0;34m]\u001b[0m\u001b[0;34m)\u001b[0m\u001b[0;34m\u001b[0m\u001b[0;34m\u001b[0m\u001b[0m\n",
            "\u001b[0;32m<ipython-input-43-4779e0bed7ed>\u001b[0m in \u001b[0;36m<listcomp>\u001b[0;34m(.0)\u001b[0m\n\u001b[1;32m     11\u001b[0m     \u001b[0mclf\u001b[0m \u001b[0;34m=\u001b[0m \u001b[0msvm\u001b[0m\u001b[0;34m.\u001b[0m\u001b[0mSVC\u001b[0m\u001b[0;34m(\u001b[0m\u001b[0mgamma\u001b[0m\u001b[0;34m=\u001b[0m\u001b[0mgamma\u001b[0m\u001b[0;34m,\u001b[0m \u001b[0mkernel\u001b[0m\u001b[0;34m=\u001b[0m\u001b[0mk\u001b[0m\u001b[0;34m,\u001b[0m \u001b[0mC\u001b[0m\u001b[0;34m=\u001b[0m\u001b[0mcost\u001b[0m\u001b[0;34m)\u001b[0m\u001b[0;34m.\u001b[0m\u001b[0mfit\u001b[0m\u001b[0;34m(\u001b[0m\u001b[0mX_train\u001b[0m\u001b[0;34m,\u001b[0m \u001b[0my_train\u001b[0m\u001b[0;34m)\u001b[0m\u001b[0;34m\u001b[0m\u001b[0;34m\u001b[0m\u001b[0m\n\u001b[1;32m     12\u001b[0m     \u001b[0my_svm_pred\u001b[0m \u001b[0;34m=\u001b[0m \u001b[0mclf\u001b[0m\u001b[0;34m.\u001b[0m\u001b[0mpredict\u001b[0m\u001b[0;34m(\u001b[0m\u001b[0mX_test\u001b[0m\u001b[0;34m)\u001b[0m\u001b[0;34m\u001b[0m\u001b[0;34m\u001b[0m\u001b[0m\n\u001b[0;32m---> 13\u001b[0;31m     \u001b[0mAccuracy\u001b[0m \u001b[0;34m=\u001b[0m \u001b[0;34m[\u001b[0m\u001b[0;36m1\u001b[0m \u001b[0;32mfor\u001b[0m \u001b[0mi\u001b[0m \u001b[0;32min\u001b[0m \u001b[0mrange\u001b[0m\u001b[0;34m(\u001b[0m\u001b[0mlen\u001b[0m\u001b[0;34m(\u001b[0m\u001b[0my_svm_pred\u001b[0m\u001b[0;34m)\u001b[0m\u001b[0;34m)\u001b[0m \u001b[0;32mif\u001b[0m \u001b[0my_test\u001b[0m\u001b[0;34m.\u001b[0m\u001b[0miloc\u001b[0m\u001b[0;34m[\u001b[0m\u001b[0mi\u001b[0m\u001b[0;34m]\u001b[0m \u001b[0;34m==\u001b[0m \u001b[0my_svm_pred\u001b[0m\u001b[0;34m[\u001b[0m\u001b[0mi\u001b[0m\u001b[0;34m]\u001b[0m\u001b[0;34m]\u001b[0m\u001b[0;34m\u001b[0m\u001b[0;34m\u001b[0m\u001b[0m\n\u001b[0m\u001b[1;32m     14\u001b[0m     \u001b[0mAccuracy\u001b[0m \u001b[0;34m=\u001b[0m \u001b[0mround\u001b[0m\u001b[0;34m(\u001b[0m\u001b[0mfloat\u001b[0m\u001b[0;34m(\u001b[0m\u001b[0mnp\u001b[0m\u001b[0;34m.\u001b[0m\u001b[0msum\u001b[0m\u001b[0;34m(\u001b[0m\u001b[0mAccuracy\u001b[0m\u001b[0;34m)\u001b[0m\u001b[0;34m)\u001b[0m\u001b[0;34m/\u001b[0m\u001b[0mlen\u001b[0m\u001b[0;34m(\u001b[0m\u001b[0my_svm_pred\u001b[0m\u001b[0;34m)\u001b[0m\u001b[0;34m*\u001b[0m\u001b[0;36m100\u001b[0m\u001b[0;34m,\u001b[0m\u001b[0;36m2\u001b[0m\u001b[0;34m)\u001b[0m\u001b[0;34m\u001b[0m\u001b[0;34m\u001b[0m\u001b[0m\n\u001b[1;32m     15\u001b[0m     \u001b[0mAccuracy_svm\u001b[0m\u001b[0;34m.\u001b[0m\u001b[0mappend\u001b[0m\u001b[0;34m(\u001b[0m\u001b[0;34m[\u001b[0m\u001b[0mk\u001b[0m\u001b[0;34m,\u001b[0m\u001b[0mAccuracy\u001b[0m\u001b[0;34m]\u001b[0m\u001b[0;34m)\u001b[0m\u001b[0;34m\u001b[0m\u001b[0;34m\u001b[0m\u001b[0m\n",
            "\u001b[0;31mAttributeError\u001b[0m: 'numpy.ndarray' object has no attribute 'iloc'"
          ]
        }
      ]
    },
    {
      "cell_type": "markdown",
      "metadata": {
        "id": "QLhT7b14MfMJ",
        "colab_type": "text"
      },
      "source": [
        "Notice how the SVM models didn't do as well at all even across many kernels. However, RBF seemed to do the best."
      ]
    },
    {
      "cell_type": "code",
      "metadata": {
        "id": "dQyzOleQMfMJ",
        "colab_type": "code",
        "colab": {}
      },
      "source": [
        "Accuracy_svm = pd.DataFrame(np.array([['SVM_linear', 71.03], ['SVM_rbf', 81.61], ['SVM_poly', 76.83]]))"
      ],
      "execution_count": 0,
      "outputs": []
    },
    {
      "cell_type": "code",
      "metadata": {
        "id": "kO-w1SSjMfMM",
        "colab_type": "code",
        "colab": {
          "base_uri": "https://localhost:8080/",
          "height": 264
        },
        "outputId": "f89f601a-d3a9-40eb-8314-4e5bade86e7f"
      },
      "source": [
        "# To make plotting easier, let's just use two features.\n",
        "X = X.iloc[:, :2]\n",
        "\n",
        "h = .5  # step size in the mesh\n",
        "#cost = .9  # update the cost\n",
        "#gamma = 10 # update the gamma \n",
        "\n",
        "# testing other kernels on unscaled data (for plotting tht support vectors)\n",
        "svc = svm.SVC(kernel='linear', C=cost).fit(X, Y)\n",
        "rbf_svc = svm.SVC(kernel='rbf', gamma=gamma, C=cost).fit(X, Y)\n",
        "poly_svc = svm.SVC(kernel='poly', gamma=gamma, degree=3, C=cost).fit(X, Y)\n",
        "lin_svc = svm.LinearSVC(C=cost).fit(X, Y)\n",
        "\n",
        "# create a mesh to plot in\n",
        "x_min, x_max = X.iloc[:,0].min() - 1, X.iloc[:,0].max() + 1\n",
        "y_min, y_max = Y.min() - 1, Y.max() + 1\n",
        "xx, yy = np.meshgrid(np.arange(x_min, x_max, h),\n",
        "                     np.arange(y_min, y_max, h))\n",
        "\n",
        "# title for the plots\n",
        "titles = ['SVC with linear kernel',\n",
        "          'SVC with RBF kernel',\n",
        "          'SVC with polynomial kernel',\n",
        "          'LinearSVC (linear kernel)']\n",
        "\n",
        "for i, kernel in enumerate((svc, rbf_svc, poly_svc, lin_svc)):\n",
        "    # Plot the decision boundary. For that, we will assign a color to each\n",
        "    # point in the mesh [x_min, m_max]x[y_min, y_max].\n",
        "    plt.subplot(2, 2, i + 1)\n",
        "    Z = kernel.predict(np.c_[xx.ravel(), yy.ravel()])\n",
        "    \n",
        "    # Put the result into a color plot\n",
        "    Z = Z.reshape(xx.shape)\n",
        "    plt.contourf(xx, yy, Z)\n",
        "    plt.axis('off')\n",
        "    \n",
        "    # Plot also the training points\n",
        "    plt.scatter(X.iloc[:, 0], X.iloc[:, 1], c=Y, cmap=plt.cm.Paired)\n",
        "    plt.title(titles[i])\n",
        "\n",
        "plt.show()"
      ],
      "execution_count": 45,
      "outputs": [
        {
          "output_type": "display_data",
          "data": {
            "image/png": "[encoded data removed]",
            "text/plain": [
              "<Figure size 432x288 with 4 Axes>"
            ]
          },
          "metadata": {
            "tags": [],
            "needs_background": "light"
          }
        }
      ]
    },
    {
      "cell_type": "markdown",
      "metadata": {
        "id": "p0rpiizyMfMP",
        "colab_type": "text"
      },
      "source": [
        "What a weird shape! "
      ]
    },
    {
      "cell_type": "code",
      "metadata": {
        "id": "aRIRI7JEMfMQ",
        "colab_type": "code",
        "colab": {
          "base_uri": "https://localhost:8080/",
          "height": 237
        },
        "outputId": "48905ce7-ccc2-43f3-fe62-0648f4bff407"
      },
      "source": [
        "#Final model comparison in terms of Accuracy\n",
        "Accuracy_df = pd.concat([Accuracy_DecTree,Accuracy_ensemble,Accuracy_svm])\n",
        "Accuracy_df.columns=['Model','Accuracy']\n",
        "Accuracy_df.sort_values(by='Accuracy',ascending=False)"
      ],
      "execution_count": 46,
      "outputs": [
        {
          "output_type": "execute_result",
          "data": {
            "text/html": [
              "<div>\n",
              "<style scoped>\n",
              "    .dataframe tbody tr th:only-of-type {\n",
              "        vertical-align: middle;\n",
              "    }\n",
              "\n",
              "    .dataframe tbody tr th {\n",
              "        vertical-align: top;\n",
              "    }\n",
              "\n",
              "    .dataframe thead th {\n",
              "        text-align: right;\n",
              "    }\n",
              "</style>\n",
              "<table border=\"1\" class=\"dataframe\">\n",
              "  <thead>\n",
              "    <tr style=\"text-align: right;\">\n",
              "      <th></th>\n",
              "      <th>Model</th>\n",
              "      <th>Accuracy</th>\n",
              "    </tr>\n",
              "  </thead>\n",
              "  <tbody>\n",
              "    <tr>\n",
              "      <th>0</th>\n",
              "      <td>RandomForest</td>\n",
              "      <td>93.16</td>\n",
              "    </tr>\n",
              "    <tr>\n",
              "      <th>0</th>\n",
              "      <td>DecTree_entropy</td>\n",
              "      <td>92.0</td>\n",
              "    </tr>\n",
              "    <tr>\n",
              "      <th>1</th>\n",
              "      <td>DecTree_gini</td>\n",
              "      <td>92.0</td>\n",
              "    </tr>\n",
              "    <tr>\n",
              "      <th>1</th>\n",
              "      <td>SVM_rbf</td>\n",
              "      <td>81.61</td>\n",
              "    </tr>\n",
              "    <tr>\n",
              "      <th>2</th>\n",
              "      <td>SVM_poly</td>\n",
              "      <td>76.83</td>\n",
              "    </tr>\n",
              "    <tr>\n",
              "      <th>0</th>\n",
              "      <td>SVM_linear</td>\n",
              "      <td>71.03</td>\n",
              "    </tr>\n",
              "  </tbody>\n",
              "</table>\n",
              "</div>"
            ],
            "text/plain": [
              "             Model Accuracy\n",
              "0     RandomForest    93.16\n",
              "0  DecTree_entropy     92.0\n",
              "1     DecTree_gini     92.0\n",
              "1          SVM_rbf    81.61\n",
              "2         SVM_poly    76.83\n",
              "0       SVM_linear    71.03"
            ]
          },
          "metadata": {
            "tags": []
          },
          "execution_count": 46
        }
      ]
    },
    {
      "cell_type": "code",
      "metadata": {
        "id": "wRr1JLIbMfMS",
        "colab_type": "code",
        "colab": {
          "base_uri": "https://localhost:8080/",
          "height": 369
        },
        "outputId": "ef0ee137-c3ae-4388-9085-ad3815a7db97"
      },
      "source": [
        "ax = plt.figure(figsize=(15, 5)).gca()\n",
        "\n",
        "ax.scatter(Accuracy_df['Model'], Accuracy_df['Accuracy'])\n",
        "ax.set_ylim(ax.get_ylim()[::-1])\n",
        "ax.set_xlabel('Accuracy Mean')\n",
        "ax.set_ylabel('Model')\n",
        "ax.set_title('Showing Accuracy per Method')"
      ],
      "execution_count": 47,
      "outputs": [
        {
          "output_type": "execute_result",
          "data": {
            "text/plain": [
              "Text(0.5, 1.0, 'Showing Accuracy per Method')"
            ]
          },
          "metadata": {
            "tags": []
          },
          "execution_count": 47
        },
        {
          "output_type": "display_data",
          "data": {
            "image/png": "[encoded data removed]",
            "text/plain": [
              "<Figure size 1080x360 with 1 Axes>"
            ]
          },
          "metadata": {
            "tags": [],
            "needs_background": "light"
          }
        }
      ]
    },
    {
      "cell_type": "markdown",
      "metadata": {
        "id": "yHRndyMdMfMU",
        "colab_type": "text"
      },
      "source": [
        "# Begin Milestone03"
      ]
    },
    {
      "cell_type": "markdown",
      "metadata": {
        "id": "0aNyH58TMfMV",
        "colab_type": "text"
      },
      "source": [
        "## simple NN model"
      ]
    },
    {
      "cell_type": "code",
      "metadata": {
        "id": "WoH5x4MpMfMW",
        "colab_type": "code",
        "colab": {
          "base_uri": "https://localhost:8080/",
          "height": 35
        },
        "outputId": "c8f6cfd5-7618-481d-b7e7-eaf0ac880b86"
      },
      "source": [
        "X_resam.shape, Y_resam.shape"
      ],
      "execution_count": 48,
      "outputs": [
        {
          "output_type": "execute_result",
          "data": {
            "text/plain": [
              "((1972, 589), (1972,))"
            ]
          },
          "metadata": {
            "tags": []
          },
          "execution_count": 48
        }
      ]
    },
    {
      "cell_type": "code",
      "metadata": {
        "id": "QaMow169MfMZ",
        "colab_type": "code",
        "colab": {}
      },
      "source": [
        "#defining the features, X, and the target is still Y from before\n",
        "X = X_resam[Wrapper_Features] \n",
        "Y = Y_resam\n",
        "\n",
        "#ensure that the decision tree is deterministic\n",
        "import numpy as np\n",
        "np.random.seed(101)\n",
        "\n",
        "#creating my model variables\n",
        "X_train, X_test, y_train, y_test = train_test_split(X, Y, test_size = 0.2)"
      ],
      "execution_count": 0,
      "outputs": []
    },
    {
      "cell_type": "code",
      "metadata": {
        "id": "g3CydLS4MfMb",
        "colab_type": "code",
        "colab": {}
      },
      "source": [
        "# Creating a numerically stable logistic s-shaped definition to call\n",
        "def sigmoid(x):\n",
        "    x = np.clip(x, -500, 500)\n",
        "    if x.any()>=0:\n",
        "        return 1/(1 + np.exp(-x))\n",
        "    else:\n",
        "        return np.exp(x)/(1 + np.exp(x))\n",
        "   \n",
        "\n",
        "# define the dimentions and set the weights to random numbers\n",
        "def init_parameters(dim1, dim2=1,std=1e-1, random = True):\n",
        "    if(random):\n",
        "        return(np.random.random([dim1,dim2])*std)\n",
        "    else:\n",
        "        return(np.zeros([dim1,dim2]))\n",
        "   \n",
        "\n",
        "# Single layer network: Forward Prop\n",
        "# Passed in the weight vectors, bias vector, the input vector and the Y\n",
        "def fwd_prop(W1,bias,X,Y):\n",
        "\n",
        "    Z1 = np.dot(W1,X) + bias # dot product of the weights and X + bias\n",
        "    A1 = sigmoid(Z1)  # Uses sigmoid to create a predicted vector\n",
        "\n",
        "    return(A1)\n",
        "\n",
        "\n",
        "#Single layer network: Backprop\n",
        "def back_prop(A1,W1,bias,X,Y):\n",
        "\n",
        "    m = X.shape[1] # used the calculate the cost by the number of inputs -1/m\n",
        "   \n",
        "    # Cross entropy loss function\n",
        "    cost = (-1/m)*np.sum(Y*np.log(A1) + (1-Y)*np.log(1-A1)) # cost of error\n",
        "    dZ1 = A1 - Y                                            # subtract actual from pred weights\n",
        "    dW1 = (1/m) * np.dot(dZ1, X.T)                          # calc new weight vector\n",
        "    dBias = (1/m) * np.sum(dZ1, axis = 1, keepdims = True)  # calc new bias vector\n",
        "    \n",
        "    grads ={\"dW1\": dW1, \"dB1\":dBias} # Weight and bias vectors after backprop\n",
        "    \n",
        "    return(grads,cost)\n",
        "\n",
        "\n",
        "def run_grad_desc(num_epochs,learning_rate,X,Y,n_1):\n",
        "    \n",
        "    n_0, m = X.shape\n",
        "    \n",
        "    W1 = init_parameters(n_1, n_0, True)\n",
        "    B1 = init_parameters(n_1,1, True)\n",
        "    \n",
        "    loss_array = np.ones([num_epochs])*np.nan # resets the loss_array to NaNs\n",
        "    \n",
        "    for i in np.arange(num_epochs):\n",
        "        A1 = fwd_prop(W1,B1,X,Y)                # get predicted vector\n",
        "        grads,cost = back_prop(A1,W1,B1,X,Y)    # get gradient and the cost from BP \n",
        "        \n",
        "        W1 = W1 - learning_rate*grads[\"dW1\"]    # update weight vector LR*gradient*[BP weights]\n",
        "        B1 = B1 - learning_rate*grads[\"dB1\"]    # update bias LR*gradient[BP bias]\n",
        "        \n",
        "        loss_array[i] = cost                    # loss array gets cross ent values\n",
        "        \n",
        "        parameter = {\"W1\":W1,\"B1\":B1}           # assign \n",
        "    \n",
        "    return(parameter,loss_array)"
      ],
      "execution_count": 0,
      "outputs": []
    },
    {
      "cell_type": "markdown",
      "metadata": {
        "id": "1C6EUph_MfMe",
        "colab_type": "text"
      },
      "source": [
        "## DNN model"
      ]
    },
    {
      "cell_type": "code",
      "metadata": {
        "id": "jr3RIQLtMfMe",
        "colab_type": "code",
        "colab": {}
      },
      "source": [
        "# TensorFlow and tf.keras\n",
        "import tensorflow as tf\n",
        "from tensorflow import keras\n",
        "from keras.datasets import imdb\n",
        "from keras.layers.core import Dense, Dropout, Activation\n",
        "from keras.datasets import reuters\n",
        "from keras.models import Sequential\n",
        "from keras.layers import Dense\n",
        "from keras.layers import LSTM\n",
        "from keras.layers.embeddings import Embedding\n",
        "from keras.preprocessing import sequence\n",
        "from keras.regularizers import l2"
      ],
      "execution_count": 0,
      "outputs": []
    },
    {
      "cell_type": "code",
      "metadata": {
        "id": "TCILVa9IPk8J",
        "colab_type": "code",
        "colab": {}
      },
      "source": [
        "# fix random seed for reproducibility\n",
        "np.random.seed(7)"
      ],
      "execution_count": 0,
      "outputs": []
    },
    {
      "cell_type": "code",
      "metadata": {
        "id": "Pp5WgEq1QQk3",
        "colab_type": "code",
        "colab": {
          "base_uri": "https://localhost:8080/",
          "height": 368
        },
        "outputId": "8c98fcc6-951e-425a-d031-9bb247bba8b9"
      },
      "source": [
        "# Create the model using keras Sequential api\n",
        "\n",
        "x_test = X_test.to_numpy()\n",
        "x_train = X_train.to_numpy()\n",
        "\n",
        "model = Sequential()\n",
        "model.add(Dense(100, input_dim=10, activation='tanh', kernel_regularizer=l2(0.1)))\n",
        "model.add(Dropout(0.3, noise_shape=None , seed=None))\n",
        "\n",
        "model.add(Dense(100, activation='tanh', kernel_regularizer=l2(0.1)))\n",
        "model.add(Dropout(0.3, noise_shape=None , seed=None))\n",
        "\n",
        "model.add(Dense(1, activation='sigmoid'))\n",
        "print(model.summary())"
      ],
      "execution_count": 174,
      "outputs": [
        {
          "output_type": "stream",
          "text": [
            "Model: \"sequential_38\"\n",
            "_________________________________________________________________\n",
            "Layer (type)                 Output Shape              Param #   \n",
            "=================================================================\n",
            "dense_61 (Dense)             (None, 100)               1100      \n",
            "_________________________________________________________________\n",
            "dropout_13 (Dropout)         (None, 100)               0         \n",
            "_________________________________________________________________\n",
            "dense_62 (Dense)             (None, 100)               10100     \n",
            "_________________________________________________________________\n",
            "dropout_14 (Dropout)         (None, 100)               0         \n",
            "_________________________________________________________________\n",
            "dense_63 (Dense)             (None, 1)                 101       \n",
            "=================================================================\n",
            "Total params: 11,301\n",
            "Trainable params: 11,301\n",
            "Non-trainable params: 0\n",
            "_________________________________________________________________\n",
            "None\n"
          ],
          "name": "stdout"
        }
      ]
    },
    {
      "cell_type": "code",
      "metadata": {
        "id": "lSy3IKwWi81M",
        "colab_type": "code",
        "colab": {
          "base_uri": "https://localhost:8080/",
          "height": 35
        },
        "outputId": "f5255eb9-c068-4cfb-be61-281ee9e973aa"
      },
      "source": [
        "x_test.shape, y_test.sh"
      ],
      "execution_count": 175,
      "outputs": [
        {
          "output_type": "execute_result",
          "data": {
            "text/plain": [
              "((395, 10), (395,))"
            ]
          },
          "metadata": {
            "tags": []
          },
          "execution_count": 175
        }
      ]
    },
    {
      "cell_type": "code",
      "metadata": {
        "id": "nn2zkLFfc2KR",
        "colab_type": "code",
        "colab": {}
      },
      "source": [
        "model.compile(loss='binary_crossentropy', optimizer='adam', metrics=['accuracy'])"
      ],
      "execution_count": 0,
      "outputs": []
    },
    {
      "cell_type": "code",
      "metadata": {
        "id": "IrryneJrdBN5",
        "colab_type": "code",
        "colab": {
          "base_uri": "https://localhost:8080/",
          "height": 1000
        },
        "outputId": "2f8dcc55-9733-41b0-c170-51df206db7a6"
      },
      "source": [
        "model_output = model.fit(x_train, y_train, epochs=100, batch_size=25, verbose=1, validation_data=(x_test, y_test))"
      ],
      "execution_count": 177,
      "outputs": [
        {
          "output_type": "stream",
          "text": [
            "Train on 1577 samples, validate on 395 samples\n",
            "Epoch 1/100\n",
            "1577/1577 [==============================] - 0s 198us/step - loss: 8.4963 - accuracy: 0.4724 - val_loss: 5.3125 - val_accuracy: 0.5063\n",
            "Epoch 2/100\n",
            "1577/1577 [==============================] - 0s 86us/step - loss: 3.4945 - accuracy: 0.4819 - val_loss: 2.1697 - val_accuracy: 0.0000e+00\n",
            "Epoch 3/100\n",
            "1577/1577 [==============================] - 0s 82us/step - loss: 1.6724 - accuracy: 0.4889 - val_loss: 1.0537 - val_accuracy: 0.0000e+00\n",
            "Epoch 4/100\n",
            "1577/1577 [==============================] - 0s 88us/step - loss: 1.0491 - accuracy: 0.5130 - val_loss: 0.8359 - val_accuracy: 0.0000e+00\n",
            "Epoch 5/100\n",
            "1577/1577 [==============================] - 0s 82us/step - loss: 0.8329 - accuracy: 0.4775 - val_loss: 0.6655 - val_accuracy: 0.0000e+00\n",
            "Epoch 6/100\n",
            "1577/1577 [==============================] - 0s 88us/step - loss: 0.7598 - accuracy: 0.4788 - val_loss: 0.7378 - val_accuracy: 0.5063\n",
            "Epoch 7/100\n",
            "1577/1577 [==============================] - 0s 86us/step - loss: 0.7298 - accuracy: 0.4870 - val_loss: 0.7100 - val_accuracy: 0.0000e+00\n",
            "Epoch 8/100\n",
            "1577/1577 [==============================] - 0s 87us/step - loss: 0.7177 - accuracy: 0.4965 - val_loss: 0.5664 - val_accuracy: 0.0000e+00\n",
            "Epoch 9/100\n",
            "1577/1577 [==============================] - 0s 103us/step - loss: 0.7122 - accuracy: 0.5086 - val_loss: 0.6708 - val_accuracy: 0.0000e+00\n",
            "Epoch 10/100\n",
            "1577/1577 [==============================] - 0s 93us/step - loss: 0.7082 - accuracy: 0.5060 - val_loss: 0.7280 - val_accuracy: 0.5063\n",
            "Epoch 11/100\n",
            "1577/1577 [==============================] - 0s 102us/step - loss: 0.7067 - accuracy: 0.4743 - val_loss: 0.7110 - val_accuracy: 0.5063\n",
            "Epoch 12/100\n",
            "1577/1577 [==============================] - 0s 86us/step - loss: 0.7040 - accuracy: 0.4902 - val_loss: 0.7482 - val_accuracy: 0.5063\n",
            "Epoch 13/100\n",
            "1577/1577 [==============================] - 0s 87us/step - loss: 0.7023 - accuracy: 0.5016 - val_loss: 0.7766 - val_accuracy: 0.5063\n",
            "Epoch 14/100\n",
            "1577/1577 [==============================] - 0s 91us/step - loss: 0.7029 - accuracy: 0.4933 - val_loss: 0.7406 - val_accuracy: 0.5063\n",
            "Epoch 15/100\n",
            "1577/1577 [==============================] - 0s 86us/step - loss: 0.7003 - accuracy: 0.4921 - val_loss: 0.7176 - val_accuracy: 0.5063\n",
            "Epoch 16/100\n",
            "1577/1577 [==============================] - 0s 90us/step - loss: 0.6995 - accuracy: 0.4997 - val_loss: 0.6544 - val_accuracy: 0.0000e+00\n",
            "Epoch 17/100\n",
            "1577/1577 [==============================] - 0s 92us/step - loss: 0.7019 - accuracy: 0.4902 - val_loss: 0.6584 - val_accuracy: 0.0000e+00\n",
            "Epoch 18/100\n",
            "1577/1577 [==============================] - 0s 81us/step - loss: 0.6995 - accuracy: 0.5162 - val_loss: 0.7340 - val_accuracy: 0.5063\n",
            "Epoch 19/100\n",
            "1577/1577 [==============================] - 0s 83us/step - loss: 0.7007 - accuracy: 0.4914 - val_loss: 0.6733 - val_accuracy: 0.0000e+00\n",
            "Epoch 20/100\n",
            "1577/1577 [==============================] - 0s 83us/step - loss: 0.7021 - accuracy: 0.4952 - val_loss: 0.6581 - val_accuracy: 0.0000e+00\n",
            "Epoch 21/100\n",
            "1577/1577 [==============================] - 0s 82us/step - loss: 0.6994 - accuracy: 0.5086 - val_loss: 0.6069 - val_accuracy: 0.0000e+00\n",
            "Epoch 22/100\n",
            "1577/1577 [==============================] - 0s 86us/step - loss: 0.6991 - accuracy: 0.5029 - val_loss: 0.6981 - val_accuracy: 0.5063\n",
            "Epoch 23/100\n",
            "1577/1577 [==============================] - 0s 85us/step - loss: 0.6983 - accuracy: 0.4997 - val_loss: 0.7311 - val_accuracy: 0.5063\n",
            "Epoch 24/100\n",
            "1577/1577 [==============================] - 0s 99us/step - loss: 0.6962 - accuracy: 0.4921 - val_loss: 0.7035 - val_accuracy: 0.5063\n",
            "Epoch 25/100\n",
            "1577/1577 [==============================] - 0s 88us/step - loss: 0.6954 - accuracy: 0.4870 - val_loss: 0.6585 - val_accuracy: 0.0000e+00\n",
            "Epoch 26/100\n",
            "1577/1577 [==============================] - 0s 89us/step - loss: 0.6944 - accuracy: 0.4959 - val_loss: 0.6868 - val_accuracy: 0.0000e+00\n",
            "Epoch 27/100\n",
            "1577/1577 [==============================] - 0s 85us/step - loss: 0.6943 - accuracy: 0.5086 - val_loss: 0.7120 - val_accuracy: 0.5063\n",
            "Epoch 28/100\n",
            "1577/1577 [==============================] - 0s 74us/step - loss: 0.6970 - accuracy: 0.5067 - val_loss: 0.8157 - val_accuracy: 0.5063\n",
            "Epoch 29/100\n",
            "1577/1577 [==============================] - 0s 75us/step - loss: 0.6990 - accuracy: 0.4990 - val_loss: 0.6255 - val_accuracy: 0.0000e+00\n",
            "Epoch 30/100\n",
            "1577/1577 [==============================] - 0s 81us/step - loss: 0.7019 - accuracy: 0.5282 - val_loss: 0.6538 - val_accuracy: 0.0000e+00\n",
            "Epoch 31/100\n",
            "1577/1577 [==============================] - 0s 83us/step - loss: 0.7036 - accuracy: 0.5111 - val_loss: 0.7018 - val_accuracy: 0.5063\n",
            "Epoch 32/100\n",
            "1577/1577 [==============================] - 0s 77us/step - loss: 0.6971 - accuracy: 0.5130 - val_loss: 0.6396 - val_accuracy: 0.0000e+00\n",
            "Epoch 33/100\n",
            "1577/1577 [==============================] - 0s 77us/step - loss: 0.6956 - accuracy: 0.4952 - val_loss: 0.6468 - val_accuracy: 0.0000e+00\n",
            "Epoch 34/100\n",
            "1577/1577 [==============================] - 0s 76us/step - loss: 0.6963 - accuracy: 0.4965 - val_loss: 0.7587 - val_accuracy: 0.5063\n",
            "Epoch 35/100\n",
            "1577/1577 [==============================] - 0s 83us/step - loss: 0.6965 - accuracy: 0.4883 - val_loss: 0.7704 - val_accuracy: 0.5063\n",
            "Epoch 36/100\n",
            "1577/1577 [==============================] - 0s 84us/step - loss: 0.6967 - accuracy: 0.4800 - val_loss: 0.6855 - val_accuracy: 0.0000e+00\n",
            "Epoch 37/100\n",
            "1577/1577 [==============================] - 0s 75us/step - loss: 0.6957 - accuracy: 0.4800 - val_loss: 0.6891 - val_accuracy: 0.0000e+00\n",
            "Epoch 38/100\n",
            "1577/1577 [==============================] - 0s 80us/step - loss: 0.6952 - accuracy: 0.5130 - val_loss: 0.7630 - val_accuracy: 0.5063\n",
            "Epoch 39/100\n",
            "1577/1577 [==============================] - 0s 87us/step - loss: 0.6953 - accuracy: 0.5060 - val_loss: 0.6320 - val_accuracy: 0.0000e+00\n",
            "Epoch 40/100\n",
            "1577/1577 [==============================] - 0s 86us/step - loss: 0.6952 - accuracy: 0.4762 - val_loss: 0.6992 - val_accuracy: 0.5063\n",
            "Epoch 41/100\n",
            "1577/1577 [==============================] - 0s 79us/step - loss: 0.6941 - accuracy: 0.4940 - val_loss: 0.7152 - val_accuracy: 0.5063\n",
            "Epoch 42/100\n",
            "1577/1577 [==============================] - 0s 85us/step - loss: 0.6954 - accuracy: 0.4731 - val_loss: 0.6955 - val_accuracy: 0.5063\n",
            "Epoch 43/100\n",
            "1577/1577 [==============================] - 0s 79us/step - loss: 0.6938 - accuracy: 0.4794 - val_loss: 0.7086 - val_accuracy: 0.5063\n",
            "Epoch 44/100\n",
            "1577/1577 [==============================] - 0s 85us/step - loss: 0.6939 - accuracy: 0.4889 - val_loss: 0.6990 - val_accuracy: 0.5063\n",
            "Epoch 45/100\n",
            "1577/1577 [==============================] - 0s 83us/step - loss: 0.6935 - accuracy: 0.4952 - val_loss: 0.7003 - val_accuracy: 0.5063\n",
            "Epoch 46/100\n",
            "1577/1577 [==============================] - 0s 81us/step - loss: 0.6942 - accuracy: 0.4864 - val_loss: 0.6862 - val_accuracy: 0.0000e+00\n",
            "Epoch 47/100\n",
            "1577/1577 [==============================] - 0s 89us/step - loss: 0.6946 - accuracy: 0.4940 - val_loss: 0.6731 - val_accuracy: 0.0000e+00\n",
            "Epoch 48/100\n",
            "1577/1577 [==============================] - 0s 88us/step - loss: 0.6939 - accuracy: 0.5105 - val_loss: 0.7336 - val_accuracy: 0.5063\n",
            "Epoch 49/100\n",
            "1577/1577 [==============================] - 0s 77us/step - loss: 0.6964 - accuracy: 0.4876 - val_loss: 0.7120 - val_accuracy: 0.5063\n",
            "Epoch 50/100\n",
            "1577/1577 [==============================] - 0s 77us/step - loss: 0.6958 - accuracy: 0.5003 - val_loss: 0.6793 - val_accuracy: 0.0000e+00\n",
            "Epoch 51/100\n",
            "1577/1577 [==============================] - 0s 81us/step - loss: 0.6950 - accuracy: 0.4952 - val_loss: 0.7105 - val_accuracy: 0.5063\n",
            "Epoch 52/100\n",
            "1577/1577 [==============================] - 0s 84us/step - loss: 0.6944 - accuracy: 0.4927 - val_loss: 0.6869 - val_accuracy: 0.0000e+00\n",
            "Epoch 53/100\n",
            "1577/1577 [==============================] - 0s 88us/step - loss: 0.6940 - accuracy: 0.4997 - val_loss: 0.6913 - val_accuracy: 0.0000e+00\n",
            "Epoch 54/100\n",
            "1577/1577 [==============================] - 0s 93us/step - loss: 0.6938 - accuracy: 0.4940 - val_loss: 0.6989 - val_accuracy: 0.5063\n",
            "Epoch 55/100\n",
            "1577/1577 [==============================] - 0s 88us/step - loss: 0.6944 - accuracy: 0.5067 - val_loss: 0.7015 - val_accuracy: 0.5063\n",
            "Epoch 56/100\n",
            "1577/1577 [==============================] - 0s 83us/step - loss: 0.6946 - accuracy: 0.5054 - val_loss: 0.6821 - val_accuracy: 0.0000e+00\n",
            "Epoch 57/100\n",
            "1577/1577 [==============================] - 0s 76us/step - loss: 0.6949 - accuracy: 0.4807 - val_loss: 0.6799 - val_accuracy: 0.0000e+00\n",
            "Epoch 58/100\n",
            "1577/1577 [==============================] - 0s 82us/step - loss: 0.6945 - accuracy: 0.4876 - val_loss: 0.6846 - val_accuracy: 0.0000e+00\n",
            "Epoch 59/100\n",
            "1577/1577 [==============================] - 0s 82us/step - loss: 0.6940 - accuracy: 0.4883 - val_loss: 0.6853 - val_accuracy: 0.0000e+00\n",
            "Epoch 60/100\n",
            "1577/1577 [==============================] - 0s 73us/step - loss: 0.6935 - accuracy: 0.4959 - val_loss: 0.6809 - val_accuracy: 0.0000e+00\n",
            "Epoch 61/100\n",
            "1577/1577 [==============================] - 0s 75us/step - loss: 0.6934 - accuracy: 0.5016 - val_loss: 0.6824 - val_accuracy: 0.0000e+00\n",
            "Epoch 62/100\n",
            "1577/1577 [==============================] - 0s 85us/step - loss: 0.6935 - accuracy: 0.4990 - val_loss: 0.6891 - val_accuracy: 0.0000e+00\n",
            "Epoch 63/100\n",
            "1577/1577 [==============================] - 0s 79us/step - loss: 0.6940 - accuracy: 0.5143 - val_loss: 0.7287 - val_accuracy: 0.5063\n",
            "Epoch 64/100\n",
            "1577/1577 [==============================] - 0s 81us/step - loss: 0.6946 - accuracy: 0.5073 - val_loss: 0.6787 - val_accuracy: 0.0000e+00\n",
            "Epoch 65/100\n",
            "1577/1577 [==============================] - 0s 81us/step - loss: 0.6941 - accuracy: 0.4990 - val_loss: 0.6937 - val_accuracy: 0.5063\n",
            "Epoch 66/100\n",
            "1577/1577 [==============================] - 0s 80us/step - loss: 0.6935 - accuracy: 0.4946 - val_loss: 0.6859 - val_accuracy: 0.0000e+00\n",
            "Epoch 67/100\n",
            "1577/1577 [==============================] - 0s 90us/step - loss: 0.6937 - accuracy: 0.4889 - val_loss: 0.6842 - val_accuracy: 0.0000e+00\n",
            "Epoch 68/100\n",
            "1577/1577 [==============================] - 0s 89us/step - loss: 0.6941 - accuracy: 0.4838 - val_loss: 0.6935 - val_accuracy: 0.0000e+00\n",
            "Epoch 69/100\n",
            "1577/1577 [==============================] - 0s 84us/step - loss: 0.6938 - accuracy: 0.4813 - val_loss: 0.6983 - val_accuracy: 0.5063\n",
            "Epoch 70/100\n",
            "1577/1577 [==============================] - 0s 88us/step - loss: 0.6941 - accuracy: 0.4813 - val_loss: 0.6912 - val_accuracy: 0.0000e+00\n",
            "Epoch 71/100\n",
            "1577/1577 [==============================] - 0s 76us/step - loss: 0.6941 - accuracy: 0.4800 - val_loss: 0.6938 - val_accuracy: 0.5063\n",
            "Epoch 72/100\n",
            "1577/1577 [==============================] - 0s 83us/step - loss: 0.6934 - accuracy: 0.4838 - val_loss: 0.6964 - val_accuracy: 0.5063\n",
            "Epoch 73/100\n",
            "1577/1577 [==============================] - 0s 76us/step - loss: 0.6933 - accuracy: 0.4902 - val_loss: 0.6955 - val_accuracy: 0.5063\n",
            "Epoch 74/100\n",
            "1577/1577 [==============================] - 0s 89us/step - loss: 0.6932 - accuracy: 0.4984 - val_loss: 0.6937 - val_accuracy: 0.5063\n",
            "Epoch 75/100\n",
            "1577/1577 [==============================] - 0s 81us/step - loss: 0.6932 - accuracy: 0.4870 - val_loss: 0.6940 - val_accuracy: 0.5063\n",
            "Epoch 76/100\n",
            "1577/1577 [==============================] - 0s 76us/step - loss: 0.6932 - accuracy: 0.5003 - val_loss: 0.6896 - val_accuracy: 0.0000e+00\n",
            "Epoch 77/100\n",
            "1577/1577 [==============================] - 0s 105us/step - loss: 0.6932 - accuracy: 0.5022 - val_loss: 0.6901 - val_accuracy: 0.0000e+00\n",
            "Epoch 78/100\n",
            "1577/1577 [==============================] - 0s 86us/step - loss: 0.6932 - accuracy: 0.5048 - val_loss: 0.6874 - val_accuracy: 0.0000e+00\n",
            "Epoch 79/100\n",
            "1577/1577 [==============================] - 0s 74us/step - loss: 0.6932 - accuracy: 0.4895 - val_loss: 0.6893 - val_accuracy: 0.0000e+00\n",
            "Epoch 80/100\n",
            "1577/1577 [==============================] - 0s 82us/step - loss: 0.6932 - accuracy: 0.4952 - val_loss: 0.6897 - val_accuracy: 0.0000e+00\n",
            "Epoch 81/100\n",
            "1577/1577 [==============================] - 0s 75us/step - loss: 0.6932 - accuracy: 0.5054 - val_loss: 0.6854 - val_accuracy: 0.0000e+00\n",
            "Epoch 82/100\n",
            "1577/1577 [==============================] - 0s 82us/step - loss: 0.6934 - accuracy: 0.5010 - val_loss: 0.6830 - val_accuracy: 0.0000e+00\n",
            "Epoch 83/100\n",
            "1577/1577 [==============================] - 0s 83us/step - loss: 0.6938 - accuracy: 0.5029 - val_loss: 0.7025 - val_accuracy: 0.5063\n",
            "Epoch 84/100\n",
            "1577/1577 [==============================] - 0s 75us/step - loss: 0.6941 - accuracy: 0.4965 - val_loss: 0.6864 - val_accuracy: 0.0000e+00\n",
            "Epoch 85/100\n",
            "1577/1577 [==============================] - 0s 88us/step - loss: 0.6940 - accuracy: 0.4889 - val_loss: 0.6881 - val_accuracy: 0.0000e+00\n",
            "Epoch 86/100\n",
            "1577/1577 [==============================] - 0s 85us/step - loss: 0.6935 - accuracy: 0.4851 - val_loss: 0.6889 - val_accuracy: 0.0000e+00\n",
            "Epoch 87/100\n",
            "1577/1577 [==============================] - 0s 84us/step - loss: 0.6933 - accuracy: 0.4997 - val_loss: 0.6911 - val_accuracy: 0.0000e+00\n",
            "Epoch 88/100\n",
            "1577/1577 [==============================] - 0s 77us/step - loss: 0.6933 - accuracy: 0.4864 - val_loss: 0.6902 - val_accuracy: 0.0000e+00\n",
            "Epoch 89/100\n",
            "1577/1577 [==============================] - 0s 73us/step - loss: 0.6934 - accuracy: 0.4769 - val_loss: 0.6923 - val_accuracy: 0.0000e+00\n",
            "Epoch 90/100\n",
            "1577/1577 [==============================] - 0s 81us/step - loss: 0.6933 - accuracy: 0.4908 - val_loss: 0.6949 - val_accuracy: 0.5063\n",
            "Epoch 91/100\n",
            "1577/1577 [==============================] - 0s 87us/step - loss: 0.6933 - accuracy: 0.4971 - val_loss: 0.6900 - val_accuracy: 0.0000e+00\n",
            "Epoch 92/100\n",
            "1577/1577 [==============================] - 0s 76us/step - loss: 0.6933 - accuracy: 0.4990 - val_loss: 0.6887 - val_accuracy: 0.0000e+00\n",
            "Epoch 93/100\n",
            "1577/1577 [==============================] - 0s 84us/step - loss: 0.6933 - accuracy: 0.5003 - val_loss: 0.6872 - val_accuracy: 0.0000e+00\n",
            "Epoch 94/100\n",
            "1577/1577 [==============================] - 0s 77us/step - loss: 0.6935 - accuracy: 0.5346 - val_loss: 0.8023 - val_accuracy: 0.5063\n",
            "Epoch 95/100\n",
            "1577/1577 [==============================] - 0s 77us/step - loss: 0.6971 - accuracy: 0.5060 - val_loss: 0.7019 - val_accuracy: 0.5063\n",
            "Epoch 96/100\n",
            "1577/1577 [==============================] - 0s 77us/step - loss: 0.6940 - accuracy: 0.4800 - val_loss: 0.6876 - val_accuracy: 0.0000e+00\n",
            "Epoch 97/100\n",
            "1577/1577 [==============================] - 0s 79us/step - loss: 0.6933 - accuracy: 0.5016 - val_loss: 0.6875 - val_accuracy: 0.0000e+00\n",
            "Epoch 98/100\n",
            "1577/1577 [==============================] - 0s 88us/step - loss: 0.6932 - accuracy: 0.5016 - val_loss: 0.6863 - val_accuracy: 0.0000e+00\n",
            "Epoch 99/100\n",
            "1577/1577 [==============================] - 0s 76us/step - loss: 0.6933 - accuracy: 0.5016 - val_loss: 0.6884 - val_accuracy: 0.0000e+00\n",
            "Epoch 100/100\n",
            "1577/1577 [==============================] - 0s 75us/step - loss: 0.6934 - accuracy: 0.4990 - val_loss: 0.6896 - val_accuracy: 0.0000e+00\n"
          ],
          "name": "stdout"
        }
      ]
    },
    {
      "cell_type": "code",
      "metadata": {
        "id": "zmxX97yVe2Q0",
        "colab_type": "code",
        "colab": {
          "base_uri": "https://localhost:8080/",
          "height": 54
        },
        "outputId": "74b275b1-a801-4457-adb9-9dc88194dbc8"
      },
      "source": [
        "print('Training Accuracy: ',np.mean(model_output.history['accuracy']))\n",
        "print('Validation Accuracy: ',np.mean(model_output.history['val_accuracy']))"
      ],
      "execution_count": 178,
      "outputs": [
        {
          "output_type": "stream",
          "text": [
            "Training Accuracy:  0.49535203\n",
            "Validation Accuracy:  0.20759493887424468\n"
          ],
          "name": "stdout"
        }
      ]
    },
    {
      "cell_type": "code",
      "metadata": {
        "id": "_Y2zrKu1f8pW",
        "colab_type": "code",
        "colab": {
          "base_uri": "https://localhost:8080/",
          "height": 35
        },
        "outputId": "5ead72cd-3225-4cb5-bede-a6302f97d7db"
      },
      "source": [
        "y_pred = model.predict(x_test)\n",
        "rounded = [round(x[0]) for x in y_pred]\n",
        "y_pred1 = np.array(rounded, dtype='int64')\n",
        "\n",
        "average_precision_score(y_test, y_pred1)"
      ],
      "execution_count": 179,
      "outputs": [
        {
          "output_type": "execute_result",
          "data": {
            "text/plain": [
              "0.5063291139240507"
            ]
          },
          "metadata": {
            "tags": []
          },
          "execution_count": 179
        }
      ]
    }
  ]
}